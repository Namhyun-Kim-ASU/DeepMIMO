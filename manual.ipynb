{
 "cells": [
  {
   "cell_type": "markdown",
   "id": "LQGt-5NoCjNo",
   "metadata": {
    "id": "LQGt-5NoCjNo"
   },
   "source": [
    "# Examples Manual\n",
    "\n",
    "[![Open in Colab](https://colab.research.google.com/assets/colab-badge.svg)](https://colab.research.google.com/drive/1U-e2rLDJYW-VcbJ7C3H2dqC625JJH5FF)\n",
    "&nbsp;\n",
    "[![GitHub](https://img.shields.io/badge/Open_on-GitHub-181717?logo=github&style=for-the-badge)](https://github.com/DeepMIMO/DeepMIMO/blob/main/docs/manual.ipynb)\n",
    "\n",
    "---\n",
    "**How to use this notebook**:\n",
    "1. Always run the cell below\n",
    "2. Jump to the section of interest (see table)\n",
    "3. Watch the video explaining the section in detail"
   ]
  },
  {
   "cell_type": "code",
   "execution_count": null,
   "id": "-zsBO5bzTRH9",
   "metadata": {},
   "outputs": [],
   "source": [
    "# Install DeepMIMO\n",
    "!pip install --pre deepmimo\n",
    "\n",
    "# Import manual-wide dependencies\n",
    "import os\n",
    "import numpy as np\n",
    "import deepmimo as dm\n",
    "import matplotlib.pyplot as plt\n",
    "\n",
    "# Load example scenario\n",
    "scen_name = 'asu_campus_3p5'\n",
    "dm.download(scen_name)\n",
    "dataset = dm.load(scen_name)"
   ]
  },
  {
   "cell_type": "markdown",
   "id": "3dca98f4",
   "metadata": {},
   "source": [
    "| Section | Video | Subsection | Description | DeepMIMO Functions |\n",
    "|---------|-------|------------|-------------|----------------------|\n",
    "| [Install DeepMIMO](#install-deepmimo) | [None *yet*] | [Python](#python) | Setup in Python using pip | pip install deepmimo |\n",
    "| | | [Matlab](#matlab) | Setup in Matlab using pyenv | pyenv, pyrun, pyrunfile |\n",
    "| [Load Dataset](#load-dataset) | [Video](https://youtu.be/LDG6IPEHY54) | [Simple](#simple) | Basic dataset loading method | dm.download(), dm.load() |\n",
    "| | | [Detailed](#detailed) | Advanced dataset loading options | dm.load() with tx_sets, rx_sets, matrices |\n",
    "| [Scenario Information](#scenario-information) | [Video](https://youtu.be/AfjRkFvC5CI) | [Summary](#summary) | High-level overview of scenario | dm.get_scenario_info() |\n",
    "| | | [Transmitters and Receivers](#transmitters-and-receivers) | Information on TX and RX placement | dm.get_txrx_sets(), dm.get_txrx_pairs() |\n",
    "| | | [Ray Tracing Parameters](#ray-tracing-parameters) | Configuration of ray tracing settings | dm.get_available_scenarios(), dm.get_params_path() |\n",
    "| [Visualization](#visualization) | [Video](https://youtu.be/MO7h2shBhsc) | [Coverage Maps](#coverage-maps) | Visualizing signal coverage | dm.plot_coverage() |\n",
    "| | | [Rays](#rays) | Ray propagation visualization | dm.plot_rays() |\n",
    "| | | [Path Plots](#path-plots) | Visualization of different path components | dm.plot_coverage() with different path metrics |\n",
    "| [Channel Generation](#channel-generation) | [Video](https://youtu.be/xsl6gjTEu2U) | [Parameters](#parameters) | Configuring channel generation | dm.ChannelParameters(), dm.set_channel_params() |\n",
    "| | | [Time Domain](#time-domain) | Generate time-domain channel responses | dataset.get_time_domain_channel() |\n",
    "| | | [Frequency Domain (OFDM)](#frequency-domain-ofdm) | Generate OFDM channel responses | dataset.get_freq_domain_channel() |\n",
    "| | | [Doppler](#doppler) | Add Doppler to Channels | dataset.set_doppler(), dataset.set_obj_vel(), dataset.set_timestamps() |\n",
    "| [Basic Operations](#basic-operations) | [Video](https://youtu.be/gv9qhC-c4ho) | [Line-of-Sight Status](#line-of-sight-status) | Check if paths are LOS or NLOS | dataset.los, dataset.num_paths |\n",
    "| | | [Pathloss](#pathloss) | Calculate pathloss values | dataset.compute_pathloss() |\n",
    "| | | [Implicit Computations](#implicit-computations) | Compute parameters automatically | dataset.\\<attribute\\> |\n",
    "| | | [Aliases](#aliases) | Shortcuts for dataset fields | dataset.\\<attribute-alias\\> |\n",
    "| | | [Attribute Access](#attribute-access) | Directly access dataset properties | dataset.\\<attribute\\> |\n",
    "| | | [Antenna Rotation](#antenna-rotation) | Adjust antenna orientations | dataset.rotate_antennas() |\n",
    "| [Advanced Operations](#advanced-operations) | [Video](https://youtu.be/PApPjG4HTHs) | [Field-of-View](#field-of-view) | FoV analysis for receivers | dataset.apply_fov() |\n",
    "| [Scene & Materials](#scene--materials) | [Video](https://youtu.be/gq7F2cUthuU) | [Visualization](#scene-visualization) | Show scene | dataset.scene, dataset.materials |\n",
    "| | | [Operations](#scene-operations) | Retrieve objects and materials | scene.get_objects(), objects.get_materials() |\n",
    "| [User Sampling](#user-sampling) | [Video](https://youtu.be/KV0LLp0jOFc) | [Dataset Trimming](#dataset-trimming) | Trim dataset based on conditions | dataset.get_active_idxs(), dataset.subset() |\n",
    "| | | [Uniform](#uniform) | Uniform user sampling | dataset.get_uniform_idxs() |\n",
    "| | | [Rows and Columns](#rows-and-columns) | Select users by row/col | dataset.get_row_idxs(), dataset.get_col_idxs() |\n",
    "| | | [Linear](#linear) | Linear user placement | dm.LinearPath() |\n",
    "| | | [Rectangular Zones](#rectangular-zones) | Filtering in 3D bounding boxes | dm.get_idxs_with_limits() |\n",
    "| [Beamforming](#beamforming) | [Video](https://youtu.be/IPVnIW2vGLE) | [Computing Beamformers](#computing-beamformers) | Calculate received power with beamforming | dm.steering_vec() |\n",
    "| | | [Visualization](#beamforming-visualization) | Beamforming visualization methods | dm.plot_beamforming() |\n",
    "| [Convert to DeepMIMO](#convert-to-deepmimo) | [Video](https://youtu.be/kXY2bMWeDgg) | [From Wireless InSite](#from-wireless-insite) | Conversion from Wireless InSite | dm.convert() |\n",
    "| | | [From Sionna RT 0.19](#from-sionna-rt) | Conversion from Sionna RT 0.19 | sionna_exporter() |\n",
    "| | | [From Sionna RT 1.0](#from-sionna-rt-10) | Conversion from Sionna RT 1.0 | sionna_exporter() |\n",
    "| | | [From AODT](#from-aodt) | Conversion from AODT | aodt_exporter() |\n",
    "| [Upload to DeepMIMO](#upload-to-deepmimo) | [Video](https://youtu.be/tNF6TN_ueU4) | [Upload Scenario](#upload-scenario) | Upload dataset to DeepMIMO database | dm.upload() |\n",
    "| | | [Upload Images](#upload-images) | Upload additional scenario images | dm.upload_images() |\n",
    "| | | [Upload Raytracing Source](#upload-raytracing-source) | Upload RT simulation source files | dm.upload_rt_source() |\n"
   ]
  },
  {
   "cell_type": "markdown",
   "id": "N-uDRp5_fj4I",
   "metadata": {
    "id": "N-uDRp5_fj4I"
   },
   "source": [
    "## Install DeepMIMO\n"
   ]
  },
  {
   "cell_type": "markdown",
   "id": "_UZnWaDsM44v",
   "metadata": {
    "id": "_UZnWaDsM44v"
   },
   "source": [
    "### Python (pip)"
   ]
  },
  {
   "cell_type": "code",
   "execution_count": null,
   "id": "vqQ_QDoHF6Wp",
   "metadata": {},
   "outputs": [],
   "source": [
    "# done previously\n",
    "#!pip install --pre deepmimo"
   ]
  },
  {
   "cell_type": "markdown",
   "id": "SCMB2lCJM99P",
   "metadata": {
    "id": "SCMB2lCJM99P"
   },
   "source": [
    "### Matlab\n",
    "\n",
    "The way DeepMIMO \"supports\" execution in Matlab is via [Python in Matlab](https://www.mathworks.com/help/matlab/call-python-libraries.html)"
   ]
  },
  {
   "cell_type": "markdown",
   "id": "PeBimuyUt9rb",
   "metadata": {
    "id": "PeBimuyUt9rb"
   },
   "source": [
    "**Step 1**: Configure python environment with the interpreter path:\n",
    "- `pyenv(\"Version\", \"C:\\Users\\joao\\mambaforge\\envs\\deepmimo_env\\python.exe\")` to setup the interpreter in Matlab\n",
    "- `pyenv(\"ExecutionMode\",\"OutOfProcess\")` to separate the python and Matlab processes - helps reduce library collisions (e.g. needed for plots)\n",
    "\n",
    "***Tip***: To get the interpreter path, open the terminal, navigate to where python could be called (activate the environment if needed) and get the path via:\n",
    "- `where python` on Windows\n",
    "- `which python` on Linux & MacOS\n",
    "\n",
    "\n",
    "**Step 2**: Install DeepMIMO via Matlab (if not in current python environment yet):\n",
    "* `pipinstall(\"deepmimo\")`\n",
    "\n",
    "**Step 3**: Run DeepMIMO in Matlab via one of the 3 options below.\n",
    "\n",
    "Option 1: Run file\n",
    "* `[channels, los] = pyrunfile(\"deepmimo_examples.py”, [channels, los])`\n",
    "\n",
    "Option 2: Run function from file\n",
    "* `out = pyrunfile(\"deepmimo_examples.py”, \"get_chs_and_los()\")`\n",
    "* `channels = out{1}`\n",
    "\n",
    "Option 3: Run individual lines of code\n",
    "* `pyrun(\"import deepmimo as dm\")`\n",
    "* `pyrun(\"dataset = dm.load('asu_campus_3p5')\")`\n",
    "* `py_chs = pyrun(\"chs = dataset.compute_channels()\", \"chs\")`\n",
    "\n",
    "Note: You have to convert/cast variables that come from pyrun into matrices with a certain type."
   ]
  },
  {
   "cell_type": "markdown",
   "id": "yQxIGTGOgLzl",
   "metadata": {
    "id": "yQxIGTGOgLzl"
   },
   "source": [
    "## Load Dataset"
   ]
  },
  {
   "cell_type": "markdown",
   "id": "_-oFbdT_F5vU",
   "metadata": {
    "id": "_-oFbdT_F5vU"
   },
   "source": [
    "### Simple Load\n"
   ]
  },
  {
   "cell_type": "code",
   "execution_count": null,
   "id": "55a9ef04",
   "metadata": {},
   "outputs": [],
   "source": [
    "import deepmimo as dm\n",
    "scen_name = 'asu_campus_3p5'\n",
    "macro_dataset = dm.load(scen_name)"
   ]
  },
  {
   "cell_type": "markdown",
   "id": "mTMfI_hhYjzX",
   "metadata": {
    "id": "mTMfI_hhYjzX"
   },
   "source": [
    "### Detailed Load"
   ]
  },
  {
   "cell_type": "code",
   "execution_count": null,
   "id": "SKveWIhEYQZ6",
   "metadata": {},
   "outputs": [],
   "source": [
    "city_scen_name = 'city_0_newyork_3p5'\n",
    "dm.download(city_scen_name)  # just to avoid prompting the user during load\n",
    "\n",
    "tx_sets_dict = {3: [0]}  # Load first points from set 1\n",
    "rx_sets_dict = {0: np.arange(10)}  # Load first 10 points from set 4\n",
    "\n",
    "# Example 1: Load specific points of specific TX/RX sets using dictionaries (& limit paths and matrices)\n",
    "dataset1 = dm.load(\n",
    "    city_scen_name,\n",
    "    tx_sets=tx_sets_dict,\n",
    "    rx_sets=rx_sets_dict,\n",
    "    matrices=['aoa_az', 'aoa_el', 'inter_pos', 'inter'],\n",
    "    max_paths=4\n",
    ")"
   ]
  },
  {
   "cell_type": "code",
   "execution_count": null,
   "id": "spx5OubblGVg",
   "metadata": {},
   "outputs": [],
   "source": [
    "# Example 2: Load all points of specific TX/RX sets using lists\n",
    "dataset2 = dm.load(city_scen_name, tx_sets=[1], rx_sets=[2])"
   ]
  },
  {
   "cell_type": "code",
   "execution_count": null,
   "id": "RFBY5ZzXlGQN",
   "metadata": {},
   "outputs": [],
   "source": [
    "# Example 3: Load all TX/RX sets\n",
    "dataset3 = dm.load(city_scen_name, tx_sets='all', rx_sets='all')\n",
    "# This includes receiving BSs. By default rx_sets='rx_only', ignoring RX BSs"
   ]
  },
  {
   "cell_type": "code",
   "execution_count": null,
   "id": "dalncL53leDK",
   "metadata": {},
   "outputs": [],
   "source": [
    "help(dm.load)"
   ]
  },
  {
   "cell_type": "markdown",
   "id": "Yg-bkPogHy2f",
   "metadata": {
    "id": "Yg-bkPogHy2f"
   },
   "source": [
    "## Scenario Information"
   ]
  },
  {
   "cell_type": "markdown",
   "id": "5dQ4CMuT57fm",
   "metadata": {
    "id": "5dQ4CMuT57fm"
   },
   "source": [
    "### Summary"
   ]
  },
  {
   "cell_type": "code",
   "execution_count": null,
   "id": "pPCNQDnRTccW",
   "metadata": {},
   "outputs": [],
   "source": [
    "# Like the information present in the scenario webpage\n",
    "dm.summary('city_0_newyork_3p5')"
   ]
  },
  {
   "cell_type": "code",
   "execution_count": null,
   "id": "9JH6huH-ouYv",
   "metadata": {},
   "outputs": [],
   "source": [
    "dm.download('city_0_newyork_3p5_s')\n",
    "dm.plot_summary('city_0_newyork_3p5_s')"
   ]
  },
  {
   "cell_type": "code",
   "execution_count": null,
   "id": "FOQwpGq6TjsI",
   "metadata": {},
   "outputs": [],
   "source": [
    "dm.info()"
   ]
  },
  {
   "cell_type": "markdown",
   "id": "8XJ_hcLOH2Q5",
   "metadata": {
    "id": "8XJ_hcLOH2Q5"
   },
   "source": [
    "### Transmitters and Receivers"
   ]
  },
  {
   "cell_type": "code",
   "execution_count": null,
   "id": "RlDWeD1hH_2v",
   "metadata": {},
   "outputs": [],
   "source": [
    "# Get all available TX-RX sets\n",
    "txrx_sets = dm.get_txrx_sets(scen_name)\n",
    "print(txrx_sets)"
   ]
  },
  {
   "cell_type": "code",
   "execution_count": null,
   "id": "Rs0EOkx-l2v2",
   "metadata": {},
   "outputs": [],
   "source": [
    "# Get all available TX to RX set pairs (pairs of rx sets to txs, not tx sets!)\n",
    "pairs = dm.get_txrx_pairs(txrx_sets)\n",
    "print(pairs)"
   ]
  },
  {
   "cell_type": "code",
   "execution_count": null,
   "id": "PKviIYs_l2rK",
   "metadata": {},
   "outputs": [],
   "source": [
    "dm.print_available_txrx_pair_ids(scen_name)"
   ]
  },
  {
   "cell_type": "code",
   "execution_count": null,
   "id": "exqD9aC0l2mf",
   "metadata": {},
   "outputs": [],
   "source": [
    "# (tx-set, tx, rx-set) IDs of the loaded matrices\n",
    "print(dataset.txrx)"
   ]
  },
  {
   "cell_type": "markdown",
   "id": "WHgWWiYkH41y",
   "metadata": {
    "id": "WHgWWiYkH41y"
   },
   "source": [
    "### Ray Tracing Parameters"
   ]
  },
  {
   "cell_type": "code",
   "execution_count": null,
   "id": "rWbFW0xbH7js",
   "metadata": {},
   "outputs": [],
   "source": [
    "# This information is present in the scenario table and can be used to search and filter.\n",
    "# (soon in dm.search())\n",
    "\n",
    "# Get all available scenarios\n",
    "scenarios = dm.get_available_scenarios()\n",
    "print(f\"Found {len(scenarios)} scenarios\\n\")\n",
    "\n",
    "for scen_name in scenarios:\n",
    "    params_json_path = dm.get_params_path(scen_name)\n",
    "\n",
    "    # Skip if params file doesn't exist\n",
    "    if not os.path.exists(params_json_path):\n",
    "        print(f\"Skipping {scen_name} - no params file found\")\n",
    "        continue\n",
    "\n",
    "    params_dict = dm.load_dict_from_json(params_json_path)\n",
    "    rt_params = params_dict[dm.consts.RT_PARAMS_PARAM_NAME]\n",
    "\n",
    "    # Calculate sums\n",
    "    max_reflections = rt_params[dm.consts.RT_PARAM_MAX_REFLECTIONS]\n",
    "    max_diffractions = rt_params[dm.consts.RT_PARAM_MAX_DIFFRACTIONS]\n",
    "    total_interactions = max_reflections + max_diffractions\n",
    "\n",
    "    print(f\"\\nScenario: {scen_name}\")\n",
    "    print(f\"Max Reflections: {max_reflections}\")\n",
    "    print(f\"Max Diffractions: {max_diffractions}\")\n",
    "    print(f\"Total Interactions: {total_interactions}\")"
   ]
  },
  {
   "cell_type": "markdown",
   "id": "__wdksVOKAoU",
   "metadata": {
    "id": "__wdksVOKAoU"
   },
   "source": [
    "## Visualization"
   ]
  },
  {
   "cell_type": "markdown",
   "id": "DJc3iYnmKGCP",
   "metadata": {
    "id": "DJc3iYnmKGCP"
   },
   "source": [
    "### Coverage Maps"
   ]
  },
  {
   "cell_type": "code",
   "execution_count": null,
   "id": "4DBcwvFnqLne",
   "metadata": {},
   "outputs": [],
   "source": [
    "dm.info()"
   ]
  },
  {
   "cell_type": "code",
   "execution_count": null,
   "id": "K6fBdxghsb7V",
   "metadata": {},
   "outputs": [],
   "source": [
    "help(dm.plot_coverage)"
   ]
  },
  {
   "cell_type": "code",
   "execution_count": null,
   "id": "AsoDxMK1KFmD",
   "metadata": {},
   "outputs": [],
   "source": [
    "main_keys = ['aoa_az', 'aoa_el', 'aod_az', 'aod_el', 'delay', 'power', 'phase',\n",
    "             'los', 'num_paths']\n",
    "\n",
    "cbar_lbls = ['azimuth of arrival (º)', 'elevation of arrival (º)',\n",
    "             'azimuth of departure  (º)', 'elevation of departure (º)',\n",
    "             'delay (s)', 'power (dBW)', 'phase (º)', 'line-of-sight status', 'number of paths']\n",
    "\n",
    "for key in main_keys:\n",
    "    plt_var = dataset[key][:,0] if dataset[key].ndim == 2 else dataset[key]\n",
    "    # dm.plot_coverage(dataset.rx_pos, plt_var, bs_pos=dataset.tx_pos.T, title=key, cbar_title=cbar_lbls[main_keys.index(key)])\n",
    "    dataset.plot_coverage(plt_var, title=key, cbar_title=cbar_lbls[main_keys.index(key)])\n",
    "    break"
   ]
  },
  {
   "cell_type": "code",
   "execution_count": null,
   "id": "T-wC_8RqaeGi",
   "metadata": {},
   "outputs": [],
   "source": [
    "#3D version\n",
    "dm.plot_coverage(dataset.rx_pos, dataset['los'], bs_pos=dataset.tx_pos.T,\n",
    "                bs_ori=dataset.tx_ori, title='LoS', cbar_title='LoS status',\n",
    "                proj_3D=True, scat_sz=0.1)"
   ]
  },
  {
   "cell_type": "code",
   "execution_count": null,
   "id": "jyFFUNw_2IQ5",
   "metadata": {},
   "outputs": [],
   "source": [
    "# Another shorter way of plotting\n",
    "dataset.aoa_az.plot()\n",
    "dataset.aoa_az.plot(path_idx=3) # same as dataset.aoa_az[:,3].plot()\n",
    "dataset.inter.plot(path_idx=3, interaction_idx=1) # plot inter[:, 3, 1]"
   ]
  },
  {
   "cell_type": "markdown",
   "id": "CFPJhsvuKH0p",
   "metadata": {
    "id": "CFPJhsvuKH0p"
   },
   "source": [
    "### Rays"
   ]
  },
  {
   "cell_type": "code",
   "execution_count": null,
   "id": "VWE-Hh5dKJ6u",
   "metadata": {},
   "outputs": [],
   "source": [
    "u_idx = np.where(dataset.los == 1)[0][100]\n",
    "dataset.plot_rays(u_idx, proj_3D=False, dpi=100)"
   ]
  },
  {
   "cell_type": "markdown",
   "id": "soobwq336TiO",
   "metadata": {
    "id": "soobwq336TiO"
   },
   "source": [
    "### Path Plots\n",
    "Note: For simplicity, the analysis is restricted to the **main path**."
   ]
  },
  {
   "cell_type": "markdown",
   "id": "8x7s2WJn9s-L",
   "metadata": {
    "id": "8x7s2WJn9s-L"
   },
   "source": [
    "#### Percentage of the Power\n"
   ]
  },
  {
   "cell_type": "code",
   "execution_count": null,
   "id": "_LRDKiGc6Vax",
   "metadata": {},
   "outputs": [],
   "source": [
    "pwr_in_first_path = dataset.lin_pwr[:, 0] / np.nansum(dataset.lin_pwr, axis=-1) * 100\n",
    "\n",
    "dm.plot_coverage(dataset.rx_pos, pwr_in_first_path, bs_pos=dataset.tx_pos.T,\n",
    "                title='Percentage of power in 1st path', cbar_title='Percentage of power [%]')"
   ]
  },
  {
   "cell_type": "markdown",
   "id": "oNGcj75x9v9K",
   "metadata": {
    "id": "oNGcj75x9v9K"
   },
   "source": [
    "#### Number of Interactions\n"
   ]
  },
  {
   "cell_type": "code",
   "execution_count": null,
   "id": "rq7g3oXr6ZiI",
   "metadata": {},
   "outputs": [],
   "source": [
    "dm.plot_coverage(dataset.rx_pos, dataset.num_interactions[:,0], bs_pos=dataset.tx_pos.T,\n",
    "                title='Number of interactions in 1st path', cbar_title='Number of interactions')"
   ]
  },
  {
   "cell_type": "markdown",
   "id": "GAqWFyhS9yMY",
   "metadata": {
    "id": "GAqWFyhS9yMY"
   },
   "source": [
    "#### First Interaction Type\n"
   ]
  },
  {
   "cell_type": "code",
   "execution_count": null,
   "id": "PQrIcecHukgx",
   "metadata": {},
   "outputs": [],
   "source": [
    "dataset.inter_str[10]"
   ]
  },
  {
   "cell_type": "code",
   "execution_count": null,
   "id": "rzhefokR6cdB",
   "metadata": {},
   "outputs": [],
   "source": [
    "first_bounce_codes = [code[0] if code else '' for code in dataset.inter_str[:,0]] # 'n', '2', '1', ...\n",
    "\n",
    "unique_first_bounces = ['n', '', 'R', 'D', 'S']\n",
    "\n",
    "coded_data = np.array([unique_first_bounces.index(code) for code in first_bounce_codes])\n",
    "\n",
    "viridis_colors = plt.cm.viridis(np.linspace(0, 1, 4))  # Get 4 colors from viridis\n",
    "\n",
    "dm.plot_coverage(dataset.rx_pos, coded_data, bs_pos=dataset.tx_pos.T,\n",
    "                 title='Type of first bounce of first path',\n",
    "                 cmap=['white'] + viridis_colors.tolist(), # white for 'n'\n",
    "                 cbar_labels=['None', 'LoS', 'R', 'D', 'S'])"
   ]
  },
  {
   "cell_type": "markdown",
   "id": "Qk1pIKZV91NZ",
   "metadata": {
    "id": "Qk1pIKZV91NZ"
   },
   "source": [
    "#### Full Bounce Profile\n"
   ]
  },
  {
   "cell_type": "code",
   "execution_count": null,
   "id": "xzSm0o-p6hvN",
   "metadata": {},
   "outputs": [],
   "source": [
    "# Full bounce profile visualization\n",
    "unique_profiles = np.unique(dataset.inter_str[:,0])\n",
    "print(f\"\\nUnique bounce profiles found: {unique_profiles}\")\n",
    "\n",
    "# Create mapping for full profiles\n",
    "profile_to_idx = {profile: idx for idx, profile in enumerate(unique_profiles)}\n",
    "full_profile_data = np.array([profile_to_idx[profile] for profile in dataset.inter_str[:, 0]])\n",
    "\n",
    "# Create colormap with white for no interaction and viridis colors for the rest\n",
    "n_profiles = len(unique_profiles)\n",
    "viridis = plt.cm.viridis(np.linspace(0, 1, n_profiles - 1))  # Get colors for the rest\n",
    "\n",
    "# Create decoded labels for the colorbar\n",
    "profile_labels = ['-'.join(p) if p else 'LoS' for p in unique_profiles]\n",
    "\n",
    "# Plot the full bounce profiles\n",
    "dm.plot_coverage(dataset.rx_pos, full_profile_data,\n",
    "                 bs_pos=dataset.tx_pos.T, title='Full bounce profile of first path',\n",
    "                 cmap=viridis.tolist() + ['white'],\n",
    "                 cbar_labels=profile_labels)"
   ]
  },
  {
   "cell_type": "markdown",
   "id": "zJgm5-gKTbLd",
   "metadata": {
    "id": "zJgm5-gKTbLd"
   },
   "source": [
    "## Channel Generation"
   ]
  },
  {
   "cell_type": "markdown",
   "id": "bK3ENtKm66Vy",
   "metadata": {
    "id": "bK3ENtKm66Vy"
   },
   "source": [
    "### Parameters"
   ]
  },
  {
   "cell_type": "code",
   "execution_count": null,
   "id": "rlbPT7xy0Yca",
   "metadata": {},
   "outputs": [],
   "source": [
    "dm.ChannelParameters()"
   ]
  },
  {
   "cell_type": "code",
   "execution_count": null,
   "id": "IkUJCdkkTUPg",
   "metadata": {},
   "outputs": [],
   "source": [
    "# Create channel parameters with all options\n",
    "ch_params = dm.ChannelParameters()\n",
    "\n",
    "# Antenna parameters\n",
    "\n",
    "# Base station antenna parameters\n",
    "ch_params.bs_antenna.rotation = np.array([0, 0, 0])  # [az, el, pol] in degrees\n",
    "ch_params.bs_antenna.fov = np.array([360, 180])      # [az, el] in degrees\n",
    "ch_params.bs_antenna.shape = np.array([8, 1])        # [horizontal, vertical] elements\n",
    "ch_params.bs_antenna.spacing = 0.5                   # Element spacing in wavelengths\n",
    "\n",
    "# User equipment antenna parameters\n",
    "ch_params.ue_antenna.rotation = np.array([0, 0, 0])  # [az, el, pol] in degrees\n",
    "ch_params.ue_antenna.fov = np.array([360, 180])      # [az, el] in degrees\n",
    "ch_params.ue_antenna.shape = np.array([1, 1])        # [horizontal, vertical] elements\n",
    "ch_params.ue_antenna.spacing = 0.5                   # Element spacing in wavelengths\n",
    "\n",
    "# Channel parameters\n",
    "ch_params.freq_domain = True  # Whether to compute frequency domain channels\n",
    "ch_params.num_paths = 25      # Number of paths\n",
    "\n",
    "# OFDM parameters\n",
    "ch_params.ofdm.bandwidth = 10e6                      # Bandwidth in Hz\n",
    "ch_params.ofdm.subcarriers = 512                     # Number of subcarriers\n",
    "ch_params.ofdm.selected_subcarriers = np.arange(1)   # Which subcarriers to generate\n",
    "ch_params.ofdm.rx_filter = 0                         # Receive Low Pass / ADC Filter\n",
    "\n",
    "# Generate channels\n",
    "dataset.compute_channels(ch_params)\n",
    "dataset.channel.shape"
   ]
  },
  {
   "cell_type": "code",
   "execution_count": null,
   "id": "_6K6sS_xzTMh",
   "metadata": {},
   "outputs": [],
   "source": [
    "dm.info('channel')"
   ]
  },
  {
   "cell_type": "code",
   "execution_count": null,
   "id": "_wV74J-YTrXh",
   "metadata": {},
   "outputs": [],
   "source": [
    "dm.info('ch_params')"
   ]
  },
  {
   "cell_type": "markdown",
   "id": "yjYqy9v3BIiq",
   "metadata": {
    "id": "yjYqy9v3BIiq"
   },
   "source": [
    "Below is a brief summary for the parameters. For more details, see [DeepMIMOv3 page](https://www.deepmimo.net/versions/deepmimo-v3-python/).\n",
    "\n",
    "| Parameter              | Default Value          | Description                                                                           |\n",
    "|------------------------|------------------------|---------------------------------------------------------------------------------------|\n",
    "| **doppler**     | 0                          | Enable Doppler shift (if available in the scenario)                                |\n",
    "| **num_paths**          | 25                          | Number of maximum paths                                                            |\n",
    "| **OFDM_channels**      | 1                          | Generate OFDM (True) or time domain channels (False)                               |\n",
    "| | | |\n",
    "| **OFDM**               |                            | OFDM parameters (only applies if OFDM_channels is True)                            |\n",
    "|   - **subcarriers**    | 512                        | Total number of subcarriers                                                        |\n",
    "|   - **selected_subcarriers** | [0]                  | Subcarriers to be generated                                                        |\n",
    "|   - **bandwidth**      | 0.05                       | Bandwidth                                                                          |\n",
    "|   - **RX_filter**      | 0                          | Receive filter                                                                     |\n",
    "| | | |\n",
    "| **bs_antenna**/**ue_antenna**         |                            | BS/UE antenna properties                                            |\n",
    "|   - **radiation_pattern** | isotropic              | Radiation pattern applied to the antenna, in ['isotropic', 'halfwave-dipole']       |\n",
    "|   - **rotation**       | [0, 0, 0]                  | Rotation of the antenna - in compliance with 38.901                                |\n",
    "|   - **shape**          | [8, 1]                     | UPA panel shape in the shape of (horizontal elements, vertical elements)           |\n",
    "|   - **spacing**        | 0.5                        | Antenna spacing                                                                    |"
   ]
  },
  {
   "cell_type": "markdown",
   "id": "41LlSPQu69sm",
   "metadata": {
    "id": "41LlSPQu69sm"
   },
   "source": [
    "### Time Domain"
   ]
  },
  {
   "cell_type": "code",
   "execution_count": null,
   "id": "q_OzWTHLJZk5",
   "metadata": {},
   "outputs": [],
   "source": [
    "# Channel computation parameters\n",
    "ch_params.freq_domain = False     # Whether to compute frequency domain channels\n",
    "\n",
    "dataset.compute_channels(ch_params)\n",
    "dataset.channel.shape  # as many taps as paths"
   ]
  },
  {
   "cell_type": "code",
   "execution_count": null,
   "id": "QxGzMTAHJYvn",
   "metadata": {},
   "outputs": [],
   "source": [
    "# Plot CIR\n",
    "user_idx = np.where(dataset.n_paths > 0)[0][0]\n",
    "plt.figure(dpi=200)\n",
    "plt.stem(dataset.delay[user_idx]*10**6, dataset.power[user_idx], basefmt='none')\n",
    "plt.xlabel('Time of arrival [us]')\n",
    "plt.ylabel('Power per path [dBW]')\n",
    "plt.grid()\n",
    "plt.show()"
   ]
  },
  {
   "cell_type": "markdown",
   "id": "zThv_RIe7G9u",
   "metadata": {
    "id": "zThv_RIe7G9u"
   },
   "source": [
    "### Frequency Domain (OFDM)"
   ]
  },
  {
   "cell_type": "code",
   "execution_count": null,
   "id": "A_3RKY3w7GcG",
   "metadata": {},
   "outputs": [],
   "source": [
    "ch_params = dm.ChannelParameters()\n",
    "\n",
    "ch_params.num_paths = 5\n",
    "ch_params.ofdm.bandwidth = 50e6\n",
    "ch_params.ofdm.selected_subcarriers = np.arange(64)      # Which subcarriers to generate\n",
    "\n",
    "channels = dataset.compute_channels(ch_params)\n",
    "\n",
    "# Visualize channel magnitude response (NOTE: requires at >1 subcarriers and antennas)\n",
    "user_idx = np.where(dataset.n_paths > 0)[0][0]\n",
    "plt.imshow(np.abs(np.squeeze(channels[user_idx]).T))\n",
    "plt.title('Channel Magnitude Response')\n",
    "plt.xlabel('TX Antennas')\n",
    "plt.ylabel('Subcarriers')\n",
    "plt.show()\n",
    "\n",
    "# NOTE: show the case of when there are too few subcarriers"
   ]
  },
  {
   "cell_type": "code",
   "execution_count": null,
   "id": "6pSZ7xUA4Nc9",
   "metadata": {},
   "outputs": [],
   "source": [
    "# Plot CIR from channel\n",
    "cir = np.fft.ifft(dataset.channels[user_idx,0,0,:]) # cir ant 0 of rx, ant 0 of tx\n",
    "plt.plot(np.abs(cir))\n",
    "plt.ylabel('CIR magnitude')\n",
    "plt.xlabel('delays bins [us]')\n",
    "delay_idxs = np.arange(len(cir))\n",
    "delay_labels = delay_idxs / ch_params.ofdm.bandwidth * 1e6\n",
    "ax = plt.gca()\n",
    "n_xtickstep = 10\n",
    "ax.set_xticks(delay_idxs[::n_xtickstep])\n",
    "ax.set_xticklabels([f'{label:.1f}' for label in delay_labels[::n_xtickstep]])\n",
    "plt.grid()\n",
    "plt.show()"
   ]
  },
  {
   "cell_type": "markdown",
   "id": "3g0CtvShdaj1",
   "metadata": {
    "id": "3g0CtvShdaj1"
   },
   "source": [
    "### Doppler"
   ]
  },
  {
   "cell_type": "markdown",
   "id": "ZyyhXWaOderN",
   "metadata": {
    "id": "ZyyhXWaOderN"
   },
   "source": [
    "Doppler can be added to the generated channels (in time or frequency domain) in three different ways:\n",
    "- Set Doppler directly: Set manually the Doppler frequencies per user (and optinally, per path)\n",
    "- Set Speeds directly: Set manually the TX, RX or object speeds. This will automatically compute Doppler Frequencies.\n",
    "- Set Time Reference: This will automatically compute, the TX, RX and object speeds across scenes. Note that this method only works when using a Dynamic Dataset.\n",
    "\n",
    "Note: For Doppler to be ADDED to the channel, the parameters \"doppler\" must be set to True in the channel parameters\n"
   ]
  },
  {
   "cell_type": "markdown",
   "id": "F6hAELsCekfn",
   "metadata": {
    "id": "F6hAELsCekfn"
   },
   "source": [
    "#### Set Doppler Directly"
   ]
  },
  {
   "cell_type": "code",
   "execution_count": null,
   "id": "dJNIlLLXeffy",
   "metadata": {},
   "outputs": [],
   "source": [
    "# Same Doppler shift for all users\n",
    "dopplers1 = 10  # [Hz]\n",
    "dataset.set_doppler(dopplers1)\n",
    "dataset.compute_channels(dm.ChannelParameters(doppler = True))\n",
    "\n",
    "\n",
    "# Different Doppler shift for different users\n",
    "dopplers2 = np.random.randint(20, 51, size=(dataset.n_ue,))\n",
    "dataset.set_doppler(dopplers2)\n",
    "dataset.compute_channels(dm.ChannelParameters(doppler = True))\n",
    "\n",
    "\n",
    "# Different Doppler shift for different users\n",
    "dopplers3 = np.random.randint(20, 51, size=(dataset.n_ue, dataset.max_paths))\n",
    "dataset.set_doppler(dopplers3)\n",
    "dataset.compute_channels(dm.ChannelParameters(doppler = True))"
   ]
  },
  {
   "cell_type": "markdown",
   "id": "SS1GNvrEeoUE",
   "metadata": {
    "id": "SS1GNvrEeoUE"
   },
   "source": [
    "#### Set Speeds"
   ]
  },
  {
   "cell_type": "code",
   "execution_count": null,
   "id": "u8RvfoXeetAo",
   "metadata": {},
   "outputs": [],
   "source": [
    "# Set rx velocities manually (same for all users)\n",
    "dataset.rx_vel = [5, 0, 0]  # (x, y, z) [m/s]\n",
    "\n",
    "# Set rx velocities manually (different per users)\n",
    "min_speed, max_speed = 0, 10\n",
    "random_velocities = np.zeros((dataset.n_ue, 3))\n",
    "random_velocities[:, :2] = np.random.uniform(min_speed, max_speed, size=(dataset.n_ue, 2))\n",
    "dataset.rx_vel = random_velocities\n",
    "# Note: z = 0 to assume users are always at ground level\n",
    "\n",
    "# Set tx velocities manually\n",
    "dataset.tx_vel = [0, 0, 0]\n",
    "\n",
    "# Set object velocities manually\n",
    "dataset.set_obj_vel(obj_idx=[1, 3, 6], vel=[[0, 5, 0], [0, 5, 6], [0, 0, 3]])\n",
    "# Note: these object indices should match the indices/ids of the objects in\n",
    "#       dataset.scene.objects\n",
    "\n",
    "dataset.compute_channels(dm.ChannelParameters(doppler = True))"
   ]
  },
  {
   "cell_type": "markdown",
   "id": "DMjo4GeOeugC",
   "metadata": {
    "id": "DMjo4GeOeugC"
   },
   "source": [
    "#### Set Scene Timestamps"
   ]
  },
  {
   "cell_type": "code",
   "execution_count": null,
   "id": "5l65kGC8exBG",
   "metadata": {},
   "outputs": [],
   "source": [
    "# NOTE: requires a dynamic dataset to test. Currently there are no Dynamic Datasets\n",
    "dyn_dataset = None\n",
    "if dyn_dataset is not None:\n",
    "    # Uniform snapshots\n",
    "    dyn_dataset.set_timestamps(10) # [seconds between scenes]\n",
    "\n",
    "    print(f'timestamps: {dyn_dataset.timestamps}')\n",
    "    print(f'rx_vel: {dyn_dataset.rx_vel}')\n",
    "    print(f'tx_vel: {dyn_dataset.tx_vel}')\n",
    "    print(f'obj_vel: {[obj.vel for obj in dyn_dataset.scene.objects]}')\n",
    "\n",
    "\n",
    "    # Non-uniform snapshots\n",
    "    times = [0, 1.5, 2.3, 4.4, 5.8, 7.1, 8.9, 10.2, 11.7, 13.0]\n",
    "    dyn_dataset.set_timestamps(times) # [timestamps of each scene]\n",
    "\n",
    "    print(f'timestamps: {dyn_dataset.timestamps}')\n",
    "    print(f'rx_vel: {dyn_dataset.rx_vel}')\n",
    "    print(f'tx_vel: {dyn_dataset.tx_vel}')\n",
    "    print(f'obj_vel: {[obj.vel for obj in dyn_dataset.scene.objects]}')"
   ]
  },
  {
   "cell_type": "markdown",
   "id": "hRB5MoNWTTpy",
   "metadata": {
    "id": "hRB5MoNWTTpy"
   },
   "source": [
    "## Basic Operations\n"
   ]
  },
  {
   "cell_type": "markdown",
   "id": "gNyEjjsqTdHb",
   "metadata": {
    "id": "gNyEjjsqTdHb"
   },
   "source": [
    "### Line-of-Sight Status"
   ]
  },
  {
   "cell_type": "code",
   "execution_count": null,
   "id": "lolx-o-dH6qd",
   "metadata": {},
   "outputs": [],
   "source": [
    "dm.info('los')"
   ]
  },
  {
   "cell_type": "code",
   "execution_count": null,
   "id": "9Q2XlWTvKqfb",
   "metadata": {},
   "outputs": [],
   "source": [
    "dataset.los.shape"
   ]
  },
  {
   "cell_type": "code",
   "execution_count": null,
   "id": "zDFUHDGPJI-W",
   "metadata": {},
   "outputs": [],
   "source": [
    "dataset.plot_coverage(dataset.los)"
   ]
  },
  {
   "cell_type": "code",
   "execution_count": null,
   "id": "EC_FCyLSrebD",
   "metadata": {},
   "outputs": [],
   "source": [
    "active_mask = dataset.num_paths > 0\n",
    "print(f\"\\nNumber of active positions: {np.sum(active_mask)}\")\n",
    "print(f\"Number of inactive positions: {np.sum(~active_mask)}\")\n",
    "\n",
    "# Create scatter plot showing active vs inactive positions\n",
    "plt.figure(figsize=(8, 6))\n",
    "plt.scatter(dataset.rx_pos[~active_mask, 0], dataset.rx_pos[~active_mask, 1],\n",
    "           alpha=0.5, s=1, c='red', label='Inactive')\n",
    "plt.scatter(dataset.rx_pos[active_mask, 0], dataset.rx_pos[active_mask, 1],\n",
    "           alpha=0.5, s=1, c='green', label='Active')\n",
    "plt.legend()\n",
    "plt.show()\n",
    "\n",
    "# dm.plot_coverage(dataset['rx_pos'], dataset.los != -1, cmap=['red', 'green'])"
   ]
  },
  {
   "cell_type": "code",
   "execution_count": null,
   "id": "Ie8jEYn-KYSd",
   "metadata": {},
   "outputs": [],
   "source": [
    "dm.plot_coverage(dataset['rx_pos'], dataset.los != -1, cmap=['red', 'green'])"
   ]
  },
  {
   "cell_type": "markdown",
   "id": "skPCJEliHef8",
   "metadata": {
    "id": "skPCJEliHef8"
   },
   "source": [
    "### Pathloss"
   ]
  },
  {
   "cell_type": "code",
   "execution_count": null,
   "id": "r-uJf3HCOfSb",
   "metadata": {},
   "outputs": [],
   "source": [
    "non_coherent_pathloss = dataset.compute_pathloss(coherent=False)\n",
    "coherent_pathloss = dataset.compute_pathloss(coherent=True) # default\n",
    "\n",
    "_, axes = plt.subplots(1, 2, figsize=(12, 5), dpi=200)\n",
    "dataset.plot_coverage(non_coherent_pathloss, title='Non-Coherent pathloss', ax=axes[0])\n",
    "dataset.plot_coverage(coherent_pathloss, title='Coherent pathloss', ax=axes[1])"
   ]
  },
  {
   "cell_type": "markdown",
   "id": "Ql9nHt8MOffe",
   "metadata": {
    "id": "Ql9nHt8MOffe"
   },
   "source": [
    "### Implicit Computations"
   ]
  },
  {
   "cell_type": "code",
   "execution_count": null,
   "id": "IdgsnbniOhnQ",
   "metadata": {},
   "outputs": [],
   "source": [
    "# Implicit and lazy computations\n",
    "# Functions are public when arguments are needed\n",
    "\n",
    "# Public compute functions\n",
    "dataset.channels          # calls dataset.compute_channels()\n",
    "dataset.pathloss          # calls dataset.compute_pathloss()\n",
    "\n",
    "# Hidden compute functions\n",
    "dataset.distance           # calls dataset._compute_distances()\n",
    "dataset.num_paths          # calls dataset._compute_num_paths()\n",
    "dataset.num_interactions   # calls dataset._compute_num_interactions()\n",
    "dataset.los                # calls dataset._compute_los()\n",
    "dataset.n_ue               # calls dataset._compute_n_ue()\n",
    "dataset.grid_size          # calls dataset._compute_grid_info()\n",
    "dataset.grid_spacing       # calls dataset._compute_grid_info()"
   ]
  },
  {
   "cell_type": "markdown",
   "id": "auCh2ox8OhJ8",
   "metadata": {
    "id": "auCh2ox8OhJ8"
   },
   "source": [
    "### Aliases"
   ]
  },
  {
   "cell_type": "code",
   "execution_count": null,
   "id": "imLxvhu1Oot9",
   "metadata": {},
   "outputs": [],
   "source": [
    "checks = [\n",
    "    dataset.pwr is dataset.power,\n",
    "    dataset.pl is dataset.pathloss,\n",
    "    dataset.ch is dataset.channels,\n",
    "    dataset.ch_params is dataset.channel_params,\n",
    "    dataset.n_paths is dataset.num_paths,\n",
    "    dataset.aoa_phi is dataset.aoa_az,\n",
    "    dataset.bs_pos is dataset.tx_pos,\n",
    "    dataset.toa is dataset.delay,\n",
    "]\n",
    "\n",
    "for check in checks:\n",
    "    print(check)"
   ]
  },
  {
   "cell_type": "markdown",
   "id": "mJ_51lXU8JlE",
   "metadata": {
    "id": "mJ_51lXU8JlE"
   },
   "source": [
    "<table>\n",
    "    <tr>\n",
    "        <th>Original</th>\n",
    "        <th>Aliases</th>\n",
    "    </tr>\n",
    "    <tr><td rowspan=\"1\">los</td><td>los_status</td></tr>\n",
    "    <tr><td rowspan=\"3\">channel</td><td>ch</td></tr>\n",
    "    <tr><td>chs</td></tr>\n",
    "    <tr><td>channels</td></tr>\n",
    "    <tr><td rowspan=\"1\">ch_params</td><td>channel_params</td></tr>\n",
    "    <tr><td rowspan=\"2\">power</td><td>pwr</td></tr>\n",
    "    <tr><td>powers</td></tr>\n",
    "    <tr><td rowspan=\"3\">pwr_linear</td><td>lin_pwr</td></tr>\n",
    "    <tr><td>linear_power</td></tr>\n",
    "    <tr><td>pwr_lin</td></tr>\n",
    "    <tr><td rowspan=\"1\">pwr_linear_ant_gain</td><td>pwr_ant_gain</td></tr>\n",
    "    <tr><td rowspan=\"4\">rx_pos</td><td>ue_pos</td></tr>\n",
    "    <tr><td>rx_loc</td></tr>\n",
    "    <tr><td>rx_position</td></tr>\n",
    "    <tr><td>rx_locations</td></tr>\n",
    "    <tr><td rowspan=\"4\">tx_pos</td><td>bs_pos</td></tr>\n",
    "    <tr><td>tx_loc</td></tr>\n",
    "    <tr><td>tx_position</td></tr>\n",
    "    <tr><td>tx_locations</td></tr>\n",
    "    <tr><td rowspan=\"2\">pathloss</td><td>pl</td></tr>\n",
    "    <tr><td>path_loss</td></tr>\n",
    "    <tr><td rowspan=\"2\">distance</td><td>dist</td></tr>\n",
    "    <tr><td>dists</td></tr>\n",
    "    <tr><td rowspan=\"2\">aoa_az</td><td>aoa_phi</td></tr>\n",
    "    <tr><td>aoa_theta</td></tr>\n",
    "    <tr><td rowspan=\"2\">aod_az</td><td>aod_phi</td></tr>\n",
    "    <tr><td>aod_theta</td></tr>\n",
    "    <tr><td rowspan=\"1\">num_paths</td><td>n_paths</td></tr>\n",
    "    <tr><td rowspan=\"2\">delay</td><td>toa</td></tr>\n",
    "    <tr><td>time_of_arrival</td></tr>\n",
    "    <tr><td rowspan=\"2\">interactions</td><td>bounce_type</td></tr>\n",
    "    <tr><td>interactions</td></tr>\n",
    "    <tr><td rowspan=\"3\">interactions_pos</td><td>bounce_pos</td></tr>\n",
    "    <tr><td>interaction_positions</td></tr>\n",
    "    <tr><td>interaction_locations</td></tr>\n",
    "</table>"
   ]
  },
  {
   "cell_type": "markdown",
   "id": "XIvMM4FJXfv4",
   "metadata": {
    "id": "XIvMM4FJXfv4"
   },
   "source": [
    "### Access Attributes"
   ]
  },
  {
   "cell_type": "code",
   "execution_count": null,
   "id": "SMiELp-hXjIU",
   "metadata": {},
   "outputs": [],
   "source": [
    "for var_name in ['pl', 'rx_pos', 'aoa_az', 'channel', ]:\n",
    "    a = dataset[var_name]\n",
    "    b = getattr(dataset, var_name)\n",
    "    print(f\"dataset['{var_name}'] == dataset.{var_name}: {a is b}\")"
   ]
  },
  {
   "cell_type": "markdown",
   "id": "86QjWLFUO-L3",
   "metadata": {
    "id": "86QjWLFUO-L3"
   },
   "source": [
    "### Antenna Rotation"
   ]
  },
  {
   "cell_type": "markdown",
   "id": "hz9Uzlc-8q2V",
   "metadata": {
    "id": "hz9Uzlc-8q2V"
   },
   "source": [
    "#### Azimuth"
   ]
  },
  {
   "cell_type": "code",
   "execution_count": null,
   "id": "AFuKog4OPJgH",
   "metadata": {},
   "outputs": [],
   "source": [
    "params = dm.ChannelParameters()\n",
    "\n",
    "# Create figure with 3 subplots\n",
    "fig, axes = plt.subplots(1, 3, figsize=(18, 5), tight_layout=True)\n",
    "\n",
    "# Define 3 different rotations to show\n",
    "rotations = [np.array([0, 0, 0]),     # Facing +x\n",
    "             np.array([0, 0, 180]),   # Facing -x\n",
    "             np.array([0, 0, -135])]  # Facing 45º between -x and -y\n",
    "\n",
    "titles = ['Orientation along +x (0°)',\n",
    "          'Orientation along -x (180°)',\n",
    "          'Orientation at 45º between -x and -y (-135°)']\n",
    "\n",
    "# Plot each azimuth rotation\n",
    "for i, (rot, title) in enumerate(zip(rotations, titles)):\n",
    "    # Update channel parameters with new rotation\n",
    "    params.bs_antenna.rotation = rot\n",
    "    dataset.set_channel_params(params)  # safest way to set params\n",
    "\n",
    "    # Create coverage plot in current subplot\n",
    "    dm.plot_coverage(dataset.rx_pos, dataset.los,\n",
    "                     bs_pos=dataset.tx_pos.T, bs_ori=dataset.tx_ori,\n",
    "                     ax=axes[i], title=title, cbar_title='LoS status')\n"
   ]
  },
  {
   "cell_type": "markdown",
   "id": "vQSxKsF48tUj",
   "metadata": {
    "id": "vQSxKsF48tUj"
   },
   "source": [
    "#### Elevation"
   ]
  },
  {
   "cell_type": "code",
   "execution_count": null,
   "id": "nBrGaIz-8uTj",
   "metadata": {},
   "outputs": [],
   "source": [
    "params = dm.ChannelParameters()\n",
    "\n",
    "# Create figure with 3 subplots\n",
    "fig, axes = plt.subplots(1, 3, figsize=(18, 5), subplot_kw={'projection': '3d'},\n",
    "                         tight_layout=True)\n",
    "\n",
    "# Define 3 different rotations to show\n",
    "rotations = [np.array([0,  0, -180]),   # Facing -x\n",
    "             np.array([0, 30, -180]),   # Facing 30º below -x in XZ plane\n",
    "             np.array([0, 60, -180])]   # Facing 60º below -x in XZ plane\n",
    "\n",
    "titles = ['Orientation along -x (180°)',\n",
    "          'Orientation at 30º between -x and -z',\n",
    "          'Orientation at 60º between -x and -z']\n",
    "\n",
    "# Plot each azimuth rotation\n",
    "for i, (rot, title) in enumerate(zip(rotations, titles)):\n",
    "    # Update channel parameters with new rotation\n",
    "    params.bs_antenna.rotation = rot\n",
    "    dataset.set_channel_params(params)\n",
    "\n",
    "    # Create coverage plot in current subplot\n",
    "    dataset.plot_coverage(dataset.los, proj_3D=True, ax=axes[i],\n",
    "                          title=title, cbar_title='LoS status')\n",
    "    axes[i].view_init(elev=5, azim=-90)  # Set view to xz plane to see tilt\n",
    "    axes[i].set_yticks([])  # Remove y-axis ticks to unclutter the plot\n"
   ]
  },
  {
   "cell_type": "markdown",
   "id": "ZoYU-t8i87Mk",
   "metadata": {
    "id": "ZoYU-t8i87Mk"
   },
   "source": [
    "## Advanced Operations"
   ]
  },
  {
   "cell_type": "markdown",
   "id": "bqFjGIqg8-nu",
   "metadata": {
    "id": "bqFjGIqg8-nu"
   },
   "source": [
    "### Field-of-View"
   ]
  },
  {
   "cell_type": "markdown",
   "id": "wvZOzEPf9Boi",
   "metadata": {
    "id": "wvZOzEPf9Boi"
   },
   "source": [
    "#### Azimuth"
   ]
  },
  {
   "cell_type": "code",
   "execution_count": null,
   "id": "I4dOYQ8URbkT",
   "metadata": {},
   "outputs": [],
   "source": [
    "dataset.apply_fov()\n",
    "dataset.plot_coverage(dataset.los)"
   ]
  },
  {
   "cell_type": "code",
   "execution_count": null,
   "id": "UxCDjNas9Exf",
   "metadata": {},
   "outputs": [],
   "source": [
    "params = dm.ChannelParameters()\n",
    "params['bs_antenna']['rotation'] = np.array([0, 0, -135])\n",
    "dataset.set_channel_params(params)\n",
    "\n",
    "# Create figure with 3 subplots\n",
    "fig, axes = plt.subplots(1, 3, figsize=(18, 5), tight_layout=True)\n",
    "\n",
    "# Define 3 FoV\n",
    "fovs = [np.array([180, 180]),   # Facing -x\n",
    "        np.array([ 90, 180]),   # Facing 30º below -x in XZ plane\n",
    "        np.array([ 60, 180])]   # Facing 60º below -x in XZ plane\n",
    "\n",
    "titles = [f'FoV = {fov[0]} x {fov[1]}°' for fov in fovs]\n",
    "\n",
    "# Plot each azimuth rotation\n",
    "for i, (fov, title) in enumerate(zip(fovs, titles)):\n",
    "    # Update channel parameters with new rotation\n",
    "    print(f\"Iteration {i}: Setting FoV to {fov}\")\n",
    "    dataset.apply_fov(bs_fov=fov)  # dataset.apply_fov() to reset fov\n",
    "\n",
    "    dataset.plot_coverage(dataset.los, ax=axes[i], title=title, cbar_title='LoS status')\n",
    "\n",
    "# Note, when applying fov, several cached values will be invalidated, like the los and channels"
   ]
  },
  {
   "cell_type": "markdown",
   "id": "WmtYWeJ89CyV",
   "metadata": {
    "id": "WmtYWeJ89CyV"
   },
   "source": [
    "#### Elevation"
   ]
  },
  {
   "cell_type": "code",
   "execution_count": null,
   "id": "A8YOp7iq9FDh",
   "metadata": {},
   "outputs": [],
   "source": [
    "params = dm.ChannelParameters()\n",
    "params['bs_antenna']['rotation'] = np.array([0, 30, -135])\n",
    "dataset.set_channel_params(params)\n",
    "\n",
    "# Create figure with 3 subplots\n",
    "fig, axes = plt.subplots(1, 3, figsize=(18, 5), tight_layout=True)\n",
    "\n",
    "# Define 3 FoV\n",
    "fovs = [np.array([360, 90]),   # Facing -x\n",
    "        np.array([360, 45]),   # Facing 30º below -x in XZ plane\n",
    "        np.array([360, 30])]   # Facing 60º below -x in XZ plane\n",
    "\n",
    "titles = [f'FoV = {fov[0]} x {fov[1]}°' for fov in fovs]\n",
    "\n",
    "# Plot each azimuth rotation\n",
    "for i, (fov, title) in enumerate(zip(fovs, titles)):\n",
    "    print(f\"Iteration {i}: Setting FoV to {fov}\")\n",
    "    dataset.apply_fov(bs_fov=fov)\n",
    "    dataset.plot_coverage(dataset.los, ax=axes[i], title=title, cbar_title='LoS status')\n",
    "\n",
    "dataset.apply_fov() # to reset fov\n",
    "\n",
    "# Note, to see path information affected by fov, index arrays with: dataset.los != -1"
   ]
  },
  {
   "cell_type": "markdown",
   "id": "zuBCIX9GVQfa",
   "metadata": {
    "id": "zuBCIX9GVQfa"
   },
   "source": [
    "## Scene & Materials"
   ]
  },
  {
   "cell_type": "markdown",
   "id": "ijUhXxkcKZwS",
   "metadata": {
    "id": "ijUhXxkcKZwS"
   },
   "source": [
    "### Visualization"
   ]
  },
  {
   "cell_type": "code",
   "execution_count": null,
   "id": "oPy1HdlgKcFr",
   "metadata": {},
   "outputs": [],
   "source": [
    "# Plot the full scene\n",
    "dataset.scene.plot()"
   ]
  },
  {
   "cell_type": "code",
   "execution_count": null,
   "id": "W92RepG_KcSX",
   "metadata": {},
   "outputs": [],
   "source": [
    "# Plot the scene with triangular faces\n",
    "dataset.scene.plot(mode='tri_faces')"
   ]
  },
  {
   "cell_type": "markdown",
   "id": "nWxapRr9peBu",
   "metadata": {
    "id": "nWxapRr9peBu"
   },
   "source": [
    "### Operations"
   ]
  },
  {
   "cell_type": "code",
   "execution_count": null,
   "id": "W88nbs4oWKnQ",
   "metadata": {},
   "outputs": [],
   "source": [
    "print(\"\\nScene and Materials Example\")\n",
    "print(\"-\" * 50)\n",
    "\n",
    "scene = dataset.scene\n",
    "\n",
    "# 1. Basic scene information\n",
    "print(\"\\nScene Overview:\")\n",
    "print(f\"- Total objects: {len(scene.objects)}\")\n",
    "\n",
    "# Get objects by category\n",
    "buildings = scene.get_objects(label='buildings')\n",
    "terrain = scene.get_objects('terrain')\n",
    "vegetation = scene.get_objects('vegetation')\n",
    "\n",
    "print(f\"- Buildings: {len(buildings)}\")\n",
    "print(f\"- Terrain: {len(terrain)}\")\n",
    "print(f\"- Vegetation: {len(vegetation)}\")\n",
    "\n",
    "# 2. Materials and Filtering\n",
    "materials = dataset.materials\n",
    "\n",
    "# Get materials used by buildings\n",
    "building_materials = buildings.get_materials()\n",
    "print(f\"\\nMaterials used in buildings: {building_materials}\")\n",
    "\n",
    "# Different ways to filter objects\n",
    "print(\"\\nFiltering examples:\")\n",
    "\n",
    "# Filter by label only\n",
    "buildings = scene.get_objects(label='buildings')\n",
    "print(f\"- Buildings: {len(buildings)}\")\n",
    "\n",
    "# Filter by material only\n",
    "material_idx = building_materials[0]\n",
    "objects_with_material = scene.get_objects(material=material_idx)\n",
    "print(f\"- Objects with material {material_idx}: {len(objects_with_material)}\")\n",
    "\n",
    "# Filter by both label and material\n",
    "buildings_with_material = scene.get_objects(label='buildings', material=material_idx)\n",
    "print(f\"- Buildings with material {material_idx}: {len(buildings_with_material)}\")\n",
    "\n",
    "# Print material properties\n",
    "material = materials[material_idx]\n",
    "print(f\"\\nMaterial {material_idx} properties:\")\n",
    "print(f\"- Name: {material.name}\")\n",
    "print(f\"- Permittivity: {material.permittivity}\")\n",
    "print(f\"- Conductivity: {material.conductivity}\")\n",
    "\n",
    "# 3. Object Properties\n",
    "print(\"\\nObject Properties:\")\n",
    "building = buildings[0]\n",
    "print(f\"- Building faces: {len(building.faces)}\")\n",
    "print(f\"- Building height: {building.height:.2f}m\")\n",
    "print(f\"- Building volume: {building.volume:.2f}m³\")\n",
    "print(f\"- Building footprint area: {building.footprint_area:.2f}m²\")\n",
    "\n",
    "# 4. Bounding Boxes\n",
    "print(\"\\nBuildings Bounding Box:\")\n",
    "bb = buildings.bounding_box\n",
    "print(f\"- Width (X): {bb.width:.2f}m\")\n",
    "print(f\"- Length (Y): {bb.length:.2f}m\")\n",
    "print(f\"- Height (Z): {bb.height:.2f}m\")"
   ]
  },
  {
   "cell_type": "markdown",
   "id": "yifyOOLdUJBo",
   "metadata": {
    "id": "yifyOOLdUJBo"
   },
   "source": [
    "## User Sampling"
   ]
  },
  {
   "cell_type": "markdown",
   "id": "A1E3ximSI0Zg",
   "metadata": {
    "id": "A1E3ximSI0Zg"
   },
   "source": [
    "### Dataset Trimming\n",
    "For sampling users, we always have to find first the indices of the users we want to keep\n",
    "Then, we can use them to index particular matrix, or the entire dataset -> `subset()` method\n"
   ]
  },
  {
   "cell_type": "code",
   "execution_count": null,
   "id": "5Dzb2eoAIwzH",
   "metadata": {},
   "outputs": [],
   "source": [
    "print(\"\\nActive Users and Dataset Subsetting (Trimming) Example\")\n",
    "print(\"-\" * 50)\n",
    "\n",
    "# Get indices of active users (those with paths)\n",
    "active_idxs = dataset.get_active_idxs()\n",
    "print(f\"Original dataset has {dataset.n_ue} UEs\")\n",
    "print(f\"Found {len(active_idxs)} active UEs\")\n",
    "\n",
    "# Create new dataset with only active users\n",
    "dataset_t = dataset.subset(active_idxs)\n",
    "print(f\"New dataset has {dataset_t.n_ue} UEs\")\n",
    "\n",
    "dataset_t.plot_coverage(dataset_t.aoa_az[:,0])"
   ]
  },
  {
   "cell_type": "markdown",
   "id": "T9BdNJuPUL-5",
   "metadata": {
    "id": "T9BdNJuPUL-5"
   },
   "source": [
    "### Uniform"
   ]
  },
  {
   "cell_type": "code",
   "execution_count": null,
   "id": "ySsOv4aaUZJw",
   "metadata": {},
   "outputs": [],
   "source": [
    "idxs = dataset.get_uniform_idxs([4,4])\n",
    "dm.plot_coverage(dataset.rx_pos[idxs], dataset.aoa_az[idxs, 0],\n",
    "                 dpi=150, bs_pos=dataset.tx_pos.T)"
   ]
  },
  {
   "cell_type": "markdown",
   "id": "anXk9ZOXQCdC",
   "metadata": {
    "id": "anXk9ZOXQCdC"
   },
   "source": [
    "### Rows and Columns"
   ]
  },
  {
   "cell_type": "code",
   "execution_count": null,
   "id": "pR2y1ZWAQDGh",
   "metadata": {},
   "outputs": [],
   "source": [
    "row_idxs = dataset.get_row_idxs(np.arange(40,60))\n",
    "col_idxs = dataset.get_col_idxs(np.arange(40,60))\n",
    "\n",
    "dataset_sub1 = dataset.subset(row_idxs)\n",
    "dataset_sub2 = dataset.subset(col_idxs)\n",
    "\n",
    "dataset.plot_coverage(dataset.los, title='Full dataset')\n",
    "x_lim, y_lim = plt.xlim(), plt.ylim()\n",
    "\n",
    "dataset_sub1.plot_coverage(dataset_sub1.los, title='Row subset')\n",
    "plt.xlim(x_lim)\n",
    "plt.ylim(y_lim)\n",
    "\n",
    "dataset_sub2.plot_coverage(dataset_sub2.los, title='Column subset')\n",
    "plt.xlim(x_lim)\n",
    "plt.ylim(y_lim)"
   ]
  },
  {
   "cell_type": "markdown",
   "id": "B1ZMqj0YUPdN",
   "metadata": {
    "id": "B1ZMqj0YUPdN"
   },
   "source": [
    "### Linear"
   ]
  },
  {
   "cell_type": "code",
   "execution_count": null,
   "id": "Z2IzJR2EUY5v",
   "metadata": {},
   "outputs": [],
   "source": [
    "# Get the closest dataset positions for a given path\n",
    "idxs1 = dm.LinearPath(dataset.rx_pos, [100, 90], [-50,  90], n_steps=75).idxs\n",
    "idxs2 = dm.LinearPath(dataset.rx_pos, [100, 80], [-50,  80], n_steps=75).idxs\n",
    "idxs3 = dm.LinearPath(dataset.rx_pos, [ 30,  0], [ 30, 150], n_steps=75).idxs\n",
    "\n",
    "dataset.plot_coverage(dataset.los,title='LoS with positions', cbar_title='LoS status')\n",
    "\n",
    "plt.scatter(dataset.rx_pos[idxs1,0], dataset.rx_pos[idxs1,1], c='blue', label='path1', s=6, lw=.1)\n",
    "plt.scatter(dataset.rx_pos[idxs2,0], dataset.rx_pos[idxs2,1], c='cyan', label='path2', s=6, lw=.1)\n",
    "plt.scatter(dataset.rx_pos[idxs3,0], dataset.rx_pos[idxs3,1], c='red',  label='path3', s=6, lw=.1)\n",
    "plt.legend()"
   ]
  },
  {
   "cell_type": "code",
   "execution_count": null,
   "id": "c8Rhi8LObaDs",
   "metadata": {},
   "outputs": [],
   "source": [
    "# Feature variation across linear path\n",
    "\n",
    "for var_name in ['los', 'pathloss', 'delay']:\n",
    "    plt.figure()\n",
    "    data = dataset[var_name] if var_name != 'delay' else dataset[var_name][:,0]\n",
    "    plt.plot(data[idxs1], ls='-',  c='blue', label='path1',marker='*', markersize=7)\n",
    "    plt.plot(data[idxs2], ls='-.', c='cyan', label='path2',marker='s', markerfacecolor='none')\n",
    "    plt.plot(data[idxs3], ls='--', c='red',  label='path3',marker='o', markerfacecolor='w')\n",
    "    plt.xlabel('Position index')\n",
    "    plt.ylabel(f'{var_name}')\n",
    "    plt.grid()\n",
    "    plt.legend()\n",
    "    plt.show()"
   ]
  },
  {
   "cell_type": "markdown",
   "id": "pNZmpRCgUQdl",
   "metadata": {
    "id": "pNZmpRCgUQdl"
   },
   "source": [
    "### Rectangular Zones"
   ]
  },
  {
   "cell_type": "code",
   "execution_count": null,
   "id": "CurOnvxGUVko",
   "metadata": {},
   "outputs": [],
   "source": [
    "idxs_A = dm.get_idxs_with_limits(dataset.rx_pos, x_min=-100, x_max=-60, y_min=0, y_max=40)\n",
    "\n",
    "idxs_B = dm.get_idxs_with_limits(dataset.rx_pos, x_min= 125, x_max=165, y_min=0, y_max=40)\n",
    "\n",
    "# Plot boxes\n",
    "dataset.plot_coverage(dataset.aoa_az[:,0])\n",
    "\n",
    "plt.scatter(dataset.rx_pos[idxs_A,0], dataset.rx_pos[idxs_A,1],\n",
    "            label='box A', s=2, lw=.1, alpha=.3)\n",
    "plt.scatter(dataset.rx_pos[idxs_B,0], dataset.rx_pos[idxs_B,1],\n",
    "            label='box B', s=2, lw=.1, alpha=.3)\n",
    "plt.legend()\n",
    "plt.title('Dataset zones on AoA Azimuth [º]')"
   ]
  },
  {
   "cell_type": "code",
   "execution_count": null,
   "id": "EpwjTWe-b1bi",
   "metadata": {},
   "outputs": [],
   "source": [
    "def plot_feat_dist(data_A, data_B, feat_name):\n",
    "    \"\"\"Plot histograms of coordinate distributions for two datasets.\n",
    "\n",
    "    Args:\n",
    "        data_A: Array of coordinates for dataset A\n",
    "        data_B: Array of coordinates for dataset B\n",
    "    \"\"\"\n",
    "    hist_params = {'alpha': 0.5, 'bins': 8, 'zorder':2}\n",
    "\n",
    "    # dist on x\n",
    "    plt.figure()\n",
    "    plt.hist(data_A, **hist_params, label='A')\n",
    "    plt.hist(data_B, **hist_params, label='B')\n",
    "    plt.title(f'{feat_name} distribution')\n",
    "    plt.xlabel(f'{feat_name}')\n",
    "    plt.grid()\n",
    "    plt.legend()\n",
    "    plt.show()\n",
    "\n",
    "plot_feat_dist(dataset.rx_pos[idxs_A, 0], dataset.rx_pos[idxs_B, 0], 'x (m)')\n",
    "plot_feat_dist(dataset.rx_pos[idxs_A, 1], dataset.rx_pos[idxs_B, 1], 'y (m)')\n",
    "plot_feat_dist(dataset.aoa_az[idxs_A, 0], dataset.aoa_az[idxs_B, 0], 'AoA Azimuth [º]')"
   ]
  },
  {
   "cell_type": "markdown",
   "id": "Ij0mpU02UatK",
   "metadata": {
    "id": "Ij0mpU02UatK"
   },
   "source": [
    "## Beamforming"
   ]
  },
  {
   "cell_type": "markdown",
   "id": "QUBjY_m5at1m",
   "metadata": {
    "id": "QUBjY_m5at1m"
   },
   "source": [
    "### Computing Beamformers"
   ]
  },
  {
   "cell_type": "code",
   "execution_count": null,
   "id": "DuTEI309Ugo7",
   "metadata": {},
   "outputs": [],
   "source": [
    "ch_params = dm.ChannelParameters()  # default array has 8 elements\n",
    "ch_params.bs_antenna.rotation = np.array([0, 0, -135])\n",
    "ch_params.bs_antenna.shape = np.array([32, 1])\n",
    "dataset.compute_channels(ch_params)\n",
    "\n",
    "n_beams = 16\n",
    "\n",
    "beam_angles = np.around(np.linspace(-60, 60, n_beams), 2)\n",
    "print(f'Beam angles: {beam_angles}')\n",
    "\n",
    "# Compute Beamformers: F1 is [n_beams, n_ant]\n",
    "F1 = np.array([dm.steering_vec(dataset.ch_params.bs_antenna.shape, phi=azi).squeeze()\n",
    "               for azi in beam_angles])\n",
    "\n",
    "# Apply beamformers\n",
    "recv_bf_pwr_dbm = np.zeros((dataset.n_ue, n_beams)) * np.nan\n",
    "mean_amplitude = np.abs(F1 @ dataset.channel[dataset.los != -1]).mean(axis=1).mean(axis=-1)\n",
    "# Avg over rx antennas and subcarriers, respectively\n",
    "\n",
    "# Convert to dBm\n",
    "recv_bf_pwr_dbm[dataset.los != -1] = np.around(20*np.log10(mean_amplitude) + 30, 1)"
   ]
  },
  {
   "cell_type": "markdown",
   "id": "3f4taLf7AmmP",
   "metadata": {
    "id": "3f4taLf7AmmP"
   },
   "source": [
    "### Plot Received Power per Beam"
   ]
  },
  {
   "cell_type": "code",
   "execution_count": null,
   "id": "rs1-mpbSAh7R",
   "metadata": {},
   "outputs": [],
   "source": [
    "fig, axes = plt.subplots(1, 3, figsize=(18, 5), dpi=300, tight_layout=True)\n",
    "\n",
    "for plt_idx, beam_idx in enumerate([6, 8, 12]):\n",
    "    dataset.plot_coverage(recv_bf_pwr_dbm[:, beam_idx], ax=axes[plt_idx], lims=[-180, -60],\n",
    "                          title=f'Beam # {beam_idx} ({beam_angles[beam_idx]:.1f}º)')"
   ]
  },
  {
   "cell_type": "markdown",
   "id": "OPsQlyoYAu4-",
   "metadata": {
    "id": "OPsQlyoYAu4-"
   },
   "source": [
    "### Plot Best Beam per Position"
   ]
  },
  {
   "cell_type": "code",
   "execution_count": null,
   "id": "k_vIg4ruAysP",
   "metadata": {},
   "outputs": [],
   "source": [
    "# Average the power on each subband and get the index of the beam that delivers max pwr\n",
    "best_beams = np.argmax(recv_bf_pwr_dbm, axis=1).astype(float)\n",
    "best_beams[np.isnan(recv_bf_pwr_dbm[:, 0])] = np.nan\n",
    "\n",
    "dm.plot_coverage(dataset.rx_pos, best_beams, bs_pos=dataset.tx_pos.T, bs_ori=dataset.tx_ori,\n",
    "                 title= 'Best Beams', cbar_title='Best beam index')"
   ]
  },
  {
   "cell_type": "markdown",
   "id": "TpAHKNzSA1UM",
   "metadata": {
    "id": "TpAHKNzSA1UM"
   },
   "source": [
    "### Plot Max Received Power"
   ]
  },
  {
   "cell_type": "code",
   "execution_count": null,
   "id": "yfZA3uT8A8Ul",
   "metadata": {},
   "outputs": [],
   "source": [
    "max_bf_pwr = np.max(recv_bf_pwr_dbm, axis=1)\n",
    "dm.plot_coverage(dataset.rx_pos, max_bf_pwr, bs_pos=dataset.tx_pos.T, bs_ori=dataset.tx_ori,\n",
    "              title= 'Best Beamformed Power (with grid of beams) ')"
   ]
  },
  {
   "cell_type": "markdown",
   "id": "TPEqQsdTYqyn",
   "metadata": {
    "id": "TPEqQsdTYqyn"
   },
   "source": [
    "## Convert to DeepMIMO"
   ]
  },
  {
   "cell_type": "markdown",
   "id": "5grrqPxBYwB4",
   "metadata": {
    "id": "5grrqPxBYwB4"
   },
   "source": [
    "### From Wireless InSite\n",
    "\n"
   ]
  },
  {
   "cell_type": "code",
   "execution_count": null,
   "id": "8AkDA4duYvBa",
   "metadata": {},
   "outputs": [],
   "source": [
    "!wget -O asu_campus_p2m.zip \"https://www.dropbox.com/s/lgzw8am5v5qz06v/asu_campus_p2m.zip?e=1&st=pcon8w9l&dl=1\"\n",
    "!unzip asu_campus_p2m.zip"
   ]
  },
  {
   "cell_type": "code",
   "execution_count": null,
   "id": "-_BpNGj1ScMT",
   "metadata": {},
   "outputs": [],
   "source": [
    "rt_folder = 'asu_campus'\n",
    "scen_name_insite = dm.convert(rt_folder, scenario_name='asu_campus_insite')"
   ]
  },
  {
   "cell_type": "code",
   "execution_count": null,
   "id": "85iBOAzB35b4",
   "metadata": {},
   "outputs": [],
   "source": [
    "dataset_insite = dm.load(scen_name_insite)"
   ]
  },
  {
   "cell_type": "markdown",
   "id": "7fgDvuwkY14q",
   "metadata": {
    "id": "7fgDvuwkY14q"
   },
   "source": [
    "### From Sionna RT\n",
    "Sionna is a bit more complicated because it doesn't have standard saving methods. Because of that, we use DeepMIMO exporter for Sionna, that saves the Scene, Path and computation parameters.\n",
    "\n",
    "Below is an example of ray tracing a simple scene in Sionna and converting it to DeepMIMO.\n",
    "\n",
    "Note: This code was tested with Sionna 0.19. It should work with many previous versions too, but needs to be verified.\n",
    "An exampel for Sionna 1.x is coming soon."
   ]
  },
  {
   "cell_type": "code",
   "execution_count": null,
   "id": "imXYwXRZY4Uo",
   "metadata": {},
   "outputs": [],
   "source": [
    "!pip install sionna==0.19.1"
   ]
  },
  {
   "cell_type": "code",
   "execution_count": null,
   "id": "YDhK6Z5bY9h6",
   "metadata": {},
   "outputs": [],
   "source": [
    "import numpy as np\n",
    "from tqdm import tqdm\n",
    "\n",
    "import matplotlib.pyplot as plt\n",
    "import numpy as np\n",
    "\n",
    "import sionna\n",
    "from sionna.rt import load_scene, Transmitter, Receiver, PlanarArray, DirectivePattern\n",
    "\n",
    "def compute_array_combinations(arrays):\n",
    "    return np.stack(np.meshgrid(*arrays), -1).reshape(-1, len(arrays))\n",
    "\n",
    "def gen_user_grid(box_corners, steps, box_offsets=None):\n",
    "    \"\"\"\n",
    "    box_corners is = [bbox_min_corner, bbox_max_corner]\n",
    "    steps = [x_step, y_step, z_step]\n",
    "    \"\"\"\n",
    "\n",
    "    # Sample the ranges of coordinates\n",
    "    ndim = len(box_corners[0])\n",
    "    dim_ranges = []\n",
    "    for dim in range(ndim):\n",
    "        if steps[dim]:\n",
    "            dim_range = np.arange(box_corners[0][dim], box_corners[1][dim], steps[dim])\n",
    "        else:\n",
    "            dim_range = np.array([box_corners[0][dim]]) # select just the first limit\n",
    "\n",
    "        dim_ranges.append(dim_range + box_offsets[dim] if box_offsets else 0)\n",
    "\n",
    "    pos = compute_array_combinations(dim_ranges)\n",
    "    print(f'Total positions generated: {pos.shape[0]}')\n",
    "    return pos\n",
    "\n",
    "\n",
    "def create_base_scene(scene_path, center_frequency):\n",
    "    scene = load_scene(scene_path)\n",
    "    scene.frequency = center_frequency\n",
    "    scene.tx_array = PlanarArray(num_rows=1,\n",
    "                                 num_cols=1,\n",
    "                                 vertical_spacing=0.5,\n",
    "                                 horizontal_spacing=0.5,\n",
    "                                 pattern=\"iso\",\n",
    "                                 polarization=\"V\")\n",
    "\n",
    "    scene.rx_array = scene.tx_array\n",
    "    scene.synthetic_array = True\n",
    "\n",
    "    return scene\n",
    "\n",
    "\n",
    "\n",
    "# Save dict with compute path params to export later\n",
    "my_compute_path_params = dict(\n",
    "    max_depth=5,\n",
    "    num_samples=1e6,\n",
    "    scattering=False,\n",
    "    diffraction=False\n",
    ")\n",
    "carrier_freq = 3.5 * 1e9  # Hz\n",
    "\n",
    "tx_pos = [-33, 11, 32.03]\n",
    "\n",
    "# 0- Create/Fetch scene and get buldings in the scene\n",
    "scene = create_base_scene(sionna.rt.scene.simple_street_canyon,\n",
    "                          center_frequency=carrier_freq)\n",
    "\n",
    "# 1- Compute TX position\n",
    "print('Computing BS position')\n",
    "scene.add(Transmitter(name=\"tx\", position=tx_pos, orientation=[0,0,0]))\n",
    "\n",
    "# 2- Compute RXs positions\n",
    "print('Computing UEs positions')\n",
    "rxs = gen_user_grid(box_corners=[(-93, -60, 0), (93, 60, 0)],\n",
    "                    steps=[4, 4, 0], box_offsets=[0, 0, 2])\n",
    "\n",
    "# 3- Add the first batch of receivers to the scene\n",
    "n_rx = len(rxs)\n",
    "n_rx_in_scene = 10  # to compute in parallel\n",
    "print(f'Adding users to the scene ({n_rx_in_scene} at a time)')\n",
    "for rx_idx in range(n_rx_in_scene):\n",
    "    scene.add(Receiver(name=f\"rx_{rx_idx}\", position=rxs[rx_idx], orientation=[0,0,0]))\n",
    "\n",
    "# 4- Enable scattering in the radio materials\n",
    "if my_compute_path_params['scattering']:\n",
    "    for rm in scene.radio_materials.values():\n",
    "        rm.scattering_coefficient = 1/np.sqrt(3) # [0,1]\n",
    "        rm.scattering_pattern = DirectivePattern(alpha_r=10)\n",
    "\n",
    "# 5- Compute the paths for each set of receiver positions\n",
    "path_list = []\n",
    "n_rx_remaining = n_rx\n",
    "for x in tqdm(range(int(n_rx / n_rx_in_scene)+1), desc='Path computation'):\n",
    "    if n_rx_remaining > 0:\n",
    "        n_rx_remaining -= n_rx_in_scene\n",
    "    else:\n",
    "        break\n",
    "    if x != 0:\n",
    "        # modify current RXs in scene\n",
    "        for rx_idx in range(n_rx_in_scene):\n",
    "            if rx_idx + n_rx_in_scene*x < n_rx:\n",
    "                scene.receivers[f'rx_{rx_idx}'].position = rxs[rx_idx + n_rx_in_scene*x]\n",
    "            else:\n",
    "                # remove the last receivers in the scene\n",
    "                scene.remove(f'rx_{rx_idx}')\n",
    "\n",
    "    paths = scene.compute_paths(**my_compute_path_params)\n",
    "\n",
    "    paths.normalize_delays = False  # sum min_tau to tau, or tau of 1st path is always = 0\n",
    "\n",
    "    path_list.append(paths)"
   ]
  },
  {
   "cell_type": "code",
   "execution_count": null,
   "id": "FmENzB5kRDAd",
   "metadata": {},
   "outputs": [],
   "source": [
    "# Ensure deepmimo is installed if running this locally\n",
    "from deepmimo.exporters import sionna_exporter\n",
    "\n",
    "save_folder = 'sionna_test_scen/'\n",
    "\n",
    "sionna_exporter(scene, path_list, my_compute_path_params, save_folder)"
   ]
  },
  {
   "cell_type": "code",
   "execution_count": null,
   "id": "nxeYkQCXPiCz",
   "metadata": {},
   "outputs": [],
   "source": [
    "# To download the scenario to try locally\n",
    "!zip -r sionna_test_scen.zip sionna_test_scen\n",
    "from google.colab import files\n",
    "files.download(\"sionna_test_scen.zip\")"
   ]
  },
  {
   "cell_type": "code",
   "execution_count": null,
   "id": "5MVoeAq6RbTX",
   "metadata": {},
   "outputs": [],
   "source": [
    "import deepmimo as dm\n",
    "\n",
    "scen_name_sionna = dm.convert(save_folder, overwrite=True)"
   ]
  },
  {
   "cell_type": "code",
   "execution_count": null,
   "id": "gQ1zWQR-RrZn",
   "metadata": {},
   "outputs": [],
   "source": [
    "dataset_sionna = dm.load(scen_name_sionna)"
   ]
  },
  {
   "cell_type": "code",
   "execution_count": null,
   "id": "aa7bde46",
   "metadata": {},
   "outputs": [],
   "source": []
  },
  {
   "cell_type": "code",
   "execution_count": null,
   "id": "ZPt68kALR3YB",
   "metadata": {},
   "outputs": [],
   "source": [
    "main_keys = ['aoa_az', 'aoa_el', 'aod_az', 'aod_el', 'delay', 'power', 'phase',\n",
    "             'los', 'num_paths']\n",
    "\n",
    "for key in main_keys:\n",
    "    mat = dataset_sionna[key]\n",
    "    plt_var = mat[:,0] if mat.ndim == 2 else mat\n",
    "    dataset_sionna.plot_coverage(plt_var, title=key, scat_sz=50)"
   ]
  },
  {
   "cell_type": "raw",
   "metadata": {
    "vscode": {
     "languageId": "raw"
    }
   },
   "source": [
    "### From Sionna RT 1.0\n",
    "\n",
    "The example above works with Sionna 0.19. For Sionna 1.0+, the installation and API have changed slightly. Below is an updated example that works with Sionna RT 1.0.\n",
    "\n",
    "Note: This code was tested with Sionna RT 1.0.2. The DeepMIMO exporter automatically detects the Sionna version and handles the differences between 0.19 and 1.0+."
   ]
  },
  {
   "cell_type": "code",
   "execution_count": null,
   "id": "a59618b9",
   "metadata": {},
   "outputs": [],
   "source": [
    "%pip install sionna-rt==1.0.2\n",
    "%pip install deepmimo"
   ]
  },
  {
   "cell_type": "code",
   "execution_count": 3,
   "id": "2de8b808",
   "metadata": {},
   "outputs": [
    {
     "ename": "RuntimeError",
     "evalue": "jit_init_thread_state(): the LLVM backend is inactive because the LLVM shared library (\"libLLVM.dylib\") could not be found! Set the DRJIT_LIBLLVM_PATH environment variable to specify its path.",
     "output_type": "error",
     "traceback": [
      "\u001b[31m---------------------------------------------------------------------------\u001b[39m",
      "\u001b[31mRuntimeError\u001b[39m                              Traceback (most recent call last)",
      "\u001b[36mCell\u001b[39m\u001b[36m \u001b[39m\u001b[32mIn[3]\u001b[39m\u001b[32m, line 9\u001b[39m\n\u001b[32m      7\u001b[39m \u001b[38;5;66;03m# Sionna RT 1.0 imports\u001b[39;00m\n\u001b[32m      8\u001b[39m \u001b[38;5;28;01mimport\u001b[39;00m\u001b[38;5;250m \u001b[39m\u001b[34;01msionna\u001b[39;00m\n\u001b[32m----> \u001b[39m\u001b[32m9\u001b[39m \u001b[38;5;28;01mfrom\u001b[39;00m\u001b[38;5;250m \u001b[39m\u001b[34;01msionna\u001b[39;00m\u001b[34;01m.\u001b[39;00m\u001b[34;01mrt\u001b[39;00m\u001b[38;5;250m \u001b[39m\u001b[38;5;28;01mimport\u001b[39;00m load_scene, Transmitter, Receiver, PlanarArray, PathSolver\n\u001b[32m     11\u001b[39m \u001b[38;5;28;01mdef\u001b[39;00m\u001b[38;5;250m \u001b[39m\u001b[34mcompute_array_combinations\u001b[39m(arrays):\n\u001b[32m     12\u001b[39m     \u001b[38;5;28;01mreturn\u001b[39;00m np.stack(np.meshgrid(*arrays), -\u001b[32m1\u001b[39m).reshape(-\u001b[32m1\u001b[39m, \u001b[38;5;28mlen\u001b[39m(arrays))\n",
      "\u001b[36mFile \u001b[39m\u001b[32m~/miniconda3/envs/lwm/lib/python3.11/site-packages/sionna/rt/__init__.py:20\u001b[39m\n\u001b[32m     17\u001b[39m     \u001b[38;5;28;01mexcept\u001b[39;00m \u001b[38;5;167;01mImportError\u001b[39;00m:\n\u001b[32m     18\u001b[39m         mi.set_variant(\u001b[33m\"\u001b[39m\u001b[33mllvm_ad_mono_polarized\u001b[39m\u001b[33m\"\u001b[39m)\n\u001b[32m---> \u001b[39m\u001b[32m20\u001b[39m \u001b[38;5;28;01mfrom\u001b[39;00m\u001b[38;5;250m \u001b[39m\u001b[34;01m.\u001b[39;00m\u001b[34;01mutils\u001b[39;00m\u001b[38;5;250m \u001b[39m\u001b[38;5;28;01mimport\u001b[39;00m *\n\u001b[32m     21\u001b[39m \u001b[38;5;28;01mfrom\u001b[39;00m\u001b[38;5;250m \u001b[39m\u001b[34;01m.\u001b[39;00m\u001b[34;01mantenna_pattern\u001b[39;00m\u001b[38;5;250m \u001b[39m\u001b[38;5;28;01mimport\u001b[39;00m AntennaPattern, \\\n\u001b[32m     22\u001b[39m                              PolarizedAntennaPattern, \\\n\u001b[32m     23\u001b[39m                              register_antenna_pattern, \\\n\u001b[32m     24\u001b[39m                              register_polarization, \\\n\u001b[32m     25\u001b[39m                              register_polarization_model\n\u001b[32m     26\u001b[39m \u001b[38;5;28;01mfrom\u001b[39;00m\u001b[38;5;250m \u001b[39m\u001b[34;01m.\u001b[39;00m\u001b[34;01mantenna_array\u001b[39;00m\u001b[38;5;250m \u001b[39m\u001b[38;5;28;01mimport\u001b[39;00m AntennaArray, PlanarArray\n",
      "\u001b[36mFile \u001b[39m\u001b[32m~/miniconda3/envs/lwm/lib/python3.11/site-packages/sionna/rt/utils/__init__.py:13\u001b[39m\n\u001b[32m     11\u001b[39m \u001b[38;5;28;01mfrom\u001b[39;00m\u001b[38;5;250m \u001b[39m\u001b[34;01m.\u001b[39;00m\u001b[34;01mmisc\u001b[39;00m\u001b[38;5;250m \u001b[39m\u001b[38;5;28;01mimport\u001b[39;00m *\n\u001b[32m     12\u001b[39m \u001b[38;5;28;01mfrom\u001b[39;00m\u001b[38;5;250m \u001b[39m\u001b[34;01m.\u001b[39;00m\u001b[34;01mray_tracing\u001b[39;00m\u001b[38;5;250m \u001b[39m\u001b[38;5;28;01mimport\u001b[39;00m *\n\u001b[32m---> \u001b[39m\u001b[32m13\u001b[39m \u001b[38;5;28;01mfrom\u001b[39;00m\u001b[38;5;250m \u001b[39m\u001b[34;01m.\u001b[39;00m\u001b[34;01mrender\u001b[39;00m\u001b[38;5;250m \u001b[39m\u001b[38;5;28;01mimport\u001b[39;00m *\n\u001b[32m     14\u001b[39m \u001b[38;5;28;01mfrom\u001b[39;00m\u001b[38;5;250m \u001b[39m\u001b[34;01m.\u001b[39;00m\u001b[34;01mmeshes\u001b[39;00m\u001b[38;5;250m \u001b[39m\u001b[38;5;28;01mimport\u001b[39;00m *\n",
      "\u001b[36mFile \u001b[39m\u001b[32m~/miniconda3/envs/lwm/lib/python3.11/site-packages/sionna/rt/utils/render.py:19\u001b[39m\n\u001b[32m     15\u001b[39m \u001b[38;5;28;01mfrom\u001b[39;00m\u001b[38;5;250m \u001b[39m\u001b[34;01msionna\u001b[39;00m\u001b[38;5;250m \u001b[39m\u001b[38;5;28;01mimport\u001b[39;00m rt\n\u001b[32m     16\u001b[39m \u001b[38;5;28;01mfrom\u001b[39;00m\u001b[38;5;250m \u001b[39m\u001b[34;01msionna\u001b[39;00m\u001b[34;01m.\u001b[39;00m\u001b[34;01mrt\u001b[39;00m\u001b[34;01m.\u001b[39;00m\u001b[34;01mconstants\u001b[39;00m\u001b[38;5;250m \u001b[39m\u001b[38;5;28;01mimport\u001b[39;00m INTERACTION_TYPE_TO_COLOR,\\\n\u001b[32m     17\u001b[39m                                 InteractionType,\\\n\u001b[32m     18\u001b[39m                                 LOS_COLOR\n\u001b[32m---> \u001b[39m\u001b[32m19\u001b[39m \u001b[38;5;28;01mfrom\u001b[39;00m\u001b[38;5;250m \u001b[39m\u001b[34;01msionna\u001b[39;00m\u001b[34;01m.\u001b[39;00m\u001b[34;01mrt\u001b[39;00m\u001b[34;01m.\u001b[39;00m\u001b[34;01mcamera\u001b[39;00m\u001b[38;5;250m \u001b[39m\u001b[38;5;28;01mimport\u001b[39;00m Camera\n\u001b[32m     20\u001b[39m \u001b[38;5;28;01mfrom\u001b[39;00m\u001b[38;5;250m \u001b[39m\u001b[34;01msionna\u001b[39;00m\u001b[34;01m.\u001b[39;00m\u001b[34;01mrt\u001b[39;00m\u001b[34;01m.\u001b[39;00m\u001b[34;01mutils\u001b[39;00m\u001b[34;01m.\u001b[39;00m\u001b[34;01mmeshes\u001b[39;00m\u001b[38;5;250m \u001b[39m\u001b[38;5;28;01mimport\u001b[39;00m clone_mesh\n\u001b[32m     23\u001b[39m \u001b[38;5;28;01mdef\u001b[39;00m\u001b[38;5;250m \u001b[39m\u001b[34mscene_scale\u001b[39m(scene: rt.Scene):\n",
      "\u001b[36mFile \u001b[39m\u001b[32m~/miniconda3/envs/lwm/lib/python3.11/site-packages/sionna/rt/camera.py:17\u001b[39m\n\u001b[32m     12\u001b[39m \u001b[38;5;28;01mimport\u001b[39;00m\u001b[38;5;250m \u001b[39m\u001b[34;01mmitsuba\u001b[39;00m\u001b[38;5;250m \u001b[39m\u001b[38;5;28;01mas\u001b[39;00m\u001b[38;5;250m \u001b[39m\u001b[34;01mmi\u001b[39;00m\n\u001b[32m     14\u001b[39m \u001b[38;5;28;01mfrom\u001b[39;00m\u001b[38;5;250m \u001b[39m\u001b[34;01msionna\u001b[39;00m\u001b[38;5;250m \u001b[39m\u001b[38;5;28;01mimport\u001b[39;00m rt\n\u001b[32m---> \u001b[39m\u001b[32m17\u001b[39m \u001b[38;5;28;43;01mclass\u001b[39;49;00m\u001b[38;5;250;43m \u001b[39;49m\u001b[34;43;01mCamera\u001b[39;49;00m\u001b[43m:\u001b[49m\n\u001b[32m     18\u001b[39m \u001b[43m    \u001b[49m\u001b[38;5;66;43;03m# pylint: disable=line-too-long\u001b[39;49;00m\n\u001b[32m     19\u001b[39m \u001b[38;5;250;43m    \u001b[39;49m\u001b[33;43mr\u001b[39;49m\u001b[33;43;03m\"\"\"\u001b[39;49;00m\n\u001b[32m     20\u001b[39m \u001b[33;43;03m    Camera defining a position and view direction for rendering a scene\u001b[39;49;00m\n\u001b[32m     21\u001b[39m \n\u001b[32m   (...)\u001b[39m\u001b[32m     31\u001b[39m \u001b[33;43;03m        If set to `None`, then ``orientation`` is used to orient the device.\u001b[39;49;00m\n\u001b[32m     32\u001b[39m \u001b[33;43;03m    \"\"\"\u001b[39;49;00m\n\u001b[32m     34\u001b[39m \u001b[43m    \u001b[49m\u001b[38;5;66;43;03m# The convention of Mitsuba for camera is Y as up and look toward Z+.\u001b[39;49;00m\n\u001b[32m     35\u001b[39m \u001b[43m    \u001b[49m\u001b[38;5;66;43;03m# However, Sionna uses Z as up and looks toward X+, for consistency\u001b[39;49;00m\n\u001b[32m     36\u001b[39m \u001b[43m    \u001b[49m\u001b[38;5;66;43;03m# with radio devices.\u001b[39;49;00m\n\u001b[32m     37\u001b[39m \u001b[43m    \u001b[49m\u001b[38;5;66;43;03m# The following transform peforms a rotation to ensure Sionna's\u001b[39;49;00m\n\u001b[32m     38\u001b[39m \u001b[43m    \u001b[49m\u001b[38;5;66;43;03m# convention.\u001b[39;49;00m\n\u001b[32m     39\u001b[39m \u001b[43m    \u001b[49m\u001b[38;5;66;43;03m# Note: rotation angle is specified in degrees.\u001b[39;49;00m\n",
      "\u001b[36mFile \u001b[39m\u001b[32m~/miniconda3/envs/lwm/lib/python3.11/site-packages/sionna/rt/camera.py:41\u001b[39m, in \u001b[36mCamera\u001b[39m\u001b[34m()\u001b[39m\n\u001b[32m     19\u001b[39m \u001b[38;5;250m\u001b[39m\u001b[33mr\u001b[39m\u001b[33;03m\"\"\"\u001b[39;00m\n\u001b[32m     20\u001b[39m \u001b[33;03mCamera defining a position and view direction for rendering a scene\u001b[39;00m\n\u001b[32m     21\u001b[39m \n\u001b[32m   (...)\u001b[39m\u001b[32m     31\u001b[39m \u001b[33;03m    If set to `None`, then ``orientation`` is used to orient the device.\u001b[39;00m\n\u001b[32m     32\u001b[39m \u001b[33;03m\"\"\"\u001b[39;00m\n\u001b[32m     34\u001b[39m \u001b[38;5;66;03m# The convention of Mitsuba for camera is Y as up and look toward Z+.\u001b[39;00m\n\u001b[32m     35\u001b[39m \u001b[38;5;66;03m# However, Sionna uses Z as up and looks toward X+, for consistency\u001b[39;00m\n\u001b[32m     36\u001b[39m \u001b[38;5;66;03m# with radio devices.\u001b[39;00m\n\u001b[32m     37\u001b[39m \u001b[38;5;66;03m# The following transform peforms a rotation to ensure Sionna's\u001b[39;00m\n\u001b[32m     38\u001b[39m \u001b[38;5;66;03m# convention.\u001b[39;00m\n\u001b[32m     39\u001b[39m \u001b[38;5;66;03m# Note: rotation angle is specified in degrees.\u001b[39;00m\n\u001b[32m     40\u001b[39m mi_to_sionna = (\n\u001b[32m---> \u001b[39m\u001b[32m41\u001b[39m       \u001b[43mmi\u001b[49m\u001b[43m.\u001b[49m\u001b[43mTransform4f\u001b[49m\u001b[43m(\u001b[49m\u001b[43m)\u001b[49m.rotate((\u001b[32m0\u001b[39m, \u001b[32m0\u001b[39m, \u001b[32m1\u001b[39m), \u001b[32m90.0\u001b[39m)\n\u001b[32m     42\u001b[39m     @ mi.Transform4f().rotate((\u001b[32m1\u001b[39m, \u001b[32m0\u001b[39m, \u001b[32m0\u001b[39m), \u001b[32m90.0\u001b[39m)\n\u001b[32m     43\u001b[39m )\n\u001b[32m     45\u001b[39m \u001b[38;5;28;01mdef\u001b[39;00m\u001b[38;5;250m \u001b[39m\u001b[34m__init__\u001b[39m(\n\u001b[32m     46\u001b[39m     \u001b[38;5;28mself\u001b[39m,\n\u001b[32m     47\u001b[39m     position: mi.Point3f,\n\u001b[32m   (...)\u001b[39m\u001b[32m     50\u001b[39m     \u001b[38;5;66;03m# Keep track of the \"to world\" transform.\u001b[39;00m\n\u001b[32m     51\u001b[39m     \u001b[38;5;66;03m# Initialized to identity.\u001b[39;00m\n\u001b[32m     52\u001b[39m     \u001b[38;5;28mself\u001b[39m._to_world = mi.Transform4f()\n",
      "\u001b[31mRuntimeError\u001b[39m: jit_init_thread_state(): the LLVM backend is inactive because the LLVM shared library (\"libLLVM.dylib\") could not be found! Set the DRJIT_LIBLLVM_PATH environment variable to specify its path."
     ]
    }
   ],
   "source": [
    "import numpy as np\n",
    "from tqdm import tqdm\n",
    "\n",
    "import matplotlib.pyplot as plt\n",
    "import numpy as np\n",
    "\n",
    "# Sionna RT 1.0 imports\n",
    "import sionna\n",
    "from sionna.rt import load_scene, Transmitter, Receiver, PlanarArray, PathSolver\n",
    "\n",
    "def compute_array_combinations(arrays):\n",
    "    return np.stack(np.meshgrid(*arrays), -1).reshape(-1, len(arrays))\n",
    "\n",
    "def gen_user_grid(box_corners, steps, box_offsets=None):\n",
    "    \"\"\"\n",
    "    box_corners is = [bbox_min_corner, bbox_max_corner]\n",
    "    steps = [x_step, y_step, z_step]\n",
    "    \"\"\"\n",
    "\n",
    "    # Sample the ranges of coordinates\n",
    "    ndim = len(box_corners[0])\n",
    "    dim_ranges = []\n",
    "    for dim in range(ndim):\n",
    "        if steps[dim]:\n",
    "            dim_range = np.arange(box_corners[0][dim], box_corners[1][dim], steps[dim])\n",
    "        else:\n",
    "            dim_range = np.array([box_corners[0][dim]]) # select just the first limit\n",
    "\n",
    "        dim_ranges.append(dim_range + box_offsets[dim] if box_offsets else 0)\n",
    "\n",
    "    pos = compute_array_combinations(dim_ranges)\n",
    "    print(f'Total positions generated: {pos.shape[0]}')\n",
    "    return pos\n",
    "\n",
    "\n",
    "def create_base_scene(scene_path, center_frequency):\n",
    "    scene = load_scene(scene_path)\n",
    "    scene.frequency = center_frequency\n",
    "    scene.tx_array = PlanarArray(num_rows=1,\n",
    "                                 num_cols=1,\n",
    "                                 vertical_spacing=0.5,\n",
    "                                 horizontal_spacing=0.5,\n",
    "                                 pattern=\"iso\",\n",
    "                                 polarization=\"V\")\n",
    "\n",
    "    scene.rx_array = scene.tx_array\n",
    "\n",
    "    return scene\n",
    "\n",
    "\n",
    "# Save dict with compute path params to export later (Sionna 1.0 parameters)\n",
    "# Based on official Sionna 1.0 tutorial: https://nvlabs.github.io/sionna/rt/tutorials/Introduction.html\n",
    "my_compute_path_params = dict(\n",
    "    max_depth=5,\n",
    "    los=True,\n",
    "    specular_reflection=True,  # Note: renamed from 'reflection' in 0.19\n",
    "    diffuse_reflection=False,  # Note: renamed from 'scattering' in 0.19\n",
    "    refraction=True,\n",
    "    synthetic_array=False,\n",
    "    seed=41\n",
    ")\n",
    "carrier_freq = 3.5 * 1e9  # Hz\n",
    "\n",
    "tx_pos = [-33, 11, 32.03]\n",
    "\n",
    "# 0- Create/Fetch scene and get buldings in the scene\n",
    "scene = create_base_scene(sionna.rt.scene.simple_street_canyon,\n",
    "                          center_frequency=carrier_freq)\n",
    "\n",
    "# 1- Compute TX position\n",
    "print('Computing BS position')\n",
    "scene.add(Transmitter(name=\"tx\", position=tx_pos, orientation=[0,0,0]))\n",
    "\n",
    "# 2- Compute RXs positions\n",
    "print('Computing UEs positions')\n",
    "rxs = gen_user_grid(box_corners=[(-93, -60, 0), (93, 60, 0)],\n",
    "                    steps=[4, 4, 0], box_offsets=[0, 0, 2])\n",
    "\n",
    "# 3- Add the first batch of receivers to the scene\n",
    "n_rx = len(rxs)\n",
    "n_rx_in_scene = 10  # to compute in parallel\n",
    "print(f'Adding users to the scene ({n_rx_in_scene} at a time)')\n",
    "for rx_idx in range(n_rx_in_scene):\n",
    "    scene.add(Receiver(name=f\"rx_{rx_idx}\", position=rxs[rx_idx], orientation=[0,0,0]))\n",
    "\n",
    "# 4- Enable scattering in the radio materials (if needed)\n",
    "if my_compute_path_params['diffuse_reflection']:\n",
    "    for rm in scene.radio_materials.values():\n",
    "        rm.scattering_coefficient = 1/np.sqrt(3) # [0,1]\n",
    "\n",
    "# 5- Compute the paths for each set of receiver positions\n",
    "path_list = []\n",
    "n_rx_remaining = n_rx\n",
    "for x in tqdm(range(int(n_rx / n_rx_in_scene)+1), desc='Path computation'):\n",
    "    if n_rx_remaining > 0:\n",
    "        n_rx_remaining -= n_rx_in_scene\n",
    "    else:\n",
    "        break\n",
    "    if x != 0:\n",
    "        # modify current RXs in scene\n",
    "        for rx_idx in range(n_rx_in_scene):\n",
    "            if rx_idx + n_rx_in_scene*x < n_rx:\n",
    "                scene.receivers[f'rx_{rx_idx}'].position = rxs[rx_idx + n_rx_in_scene*x]\n",
    "            else:\n",
    "                # remove the last receivers in the scene\n",
    "                scene.remove(f'rx_{rx_idx}')\n",
    "\n",
    "    # Sionna 1.0 API: Instantiate PathSolver and use it\n",
    "    # Based on: https://nvlabs.github.io/sionna/rt/tutorials/Introduction.html\n",
    "    path_solver = PathSolver()\n",
    "    paths = path_solver(scene=scene, **my_compute_path_params)\n",
    "    # Note: In Sionna 1.0, normalize_delays is handled differently\n",
    "\n",
    "    path_list.append(paths)\n"
   ]
  },
  {
   "cell_type": "code",
   "execution_count": 1,
   "id": "fecc2c6f",
   "metadata": {},
   "outputs": [
    {
     "ename": "NameError",
     "evalue": "name 'scene' is not defined",
     "output_type": "error",
     "traceback": [
      "\u001b[31m---------------------------------------------------------------------------\u001b[39m",
      "\u001b[31mNameError\u001b[39m                                 Traceback (most recent call last)",
      "\u001b[36mCell\u001b[39m\u001b[36m \u001b[39m\u001b[32mIn[1]\u001b[39m\u001b[32m, line 6\u001b[39m\n\u001b[32m      3\u001b[39m save_folder = \u001b[33m'\u001b[39m\u001b[33msionna_1_0_test_scen/\u001b[39m\u001b[33m'\u001b[39m\n\u001b[32m      5\u001b[39m \u001b[38;5;66;03m# The exporter automatically detects Sionna version and handles the differences\u001b[39;00m\n\u001b[32m----> \u001b[39m\u001b[32m6\u001b[39m sionna_exporter(\u001b[43mscene\u001b[49m, path_list, my_compute_path_params, save_folder)\n",
      "\u001b[31mNameError\u001b[39m: name 'scene' is not defined"
     ]
    }
   ],
   "source": [
    "# Ensure deepmimo is installed if running this locally\n",
    "from deepmimo.exporters import sionna_exporter\n",
    "save_folder = 'sionna_1_0_test_scen/'\n",
    "\n",
    "# The exporter automatically detects Sionna version and handles the differences\n",
    "sionna_exporter(scene, path_list, my_compute_path_params, save_folder)\n"
   ]
  },
  {
   "cell_type": "code",
   "execution_count": null,
   "id": "edd9e90a",
   "metadata": {},
   "outputs": [],
   "source": [
    "import deepmimo as dm\n",
    "\n",
    "# Convert the Sionna 1.0 scenario to DeepMIMO format\n",
    "scen_name_sionna_1_0 = dm.convert(save_folder, overwrite=True)\n"
   ]
  },
  {
   "cell_type": "code",
   "execution_count": null,
   "id": "11547100",
   "metadata": {},
   "outputs": [],
   "source": [
    "# Load the converted dataset\n",
    "dataset_sionna_1_0 = dm.load(scen_name_sionna_1_0)"
   ]
  },
  {
   "cell_type": "code",
   "execution_count": null,
   "id": "5b570041",
   "metadata": {},
   "outputs": [],
   "source": [
    "# Visualize the results - same as Sionna 0.19 example\n",
    "main_keys = ['aoa_az', 'aoa_el', 'aod_az', 'aod_el', 'delay', 'power', 'phase',\n",
    "             'los', 'num_paths']\n",
    "\n",
    "for key in main_keys:\n",
    "    mat = dataset_sionna_1_0[key]\n",
    "    plt_var = mat[:,0] if mat.ndim == 2 else mat\n",
    "    dataset_sionna_1_0.plot_coverage(plt_var, title=f'{key} (Sionna 1.0)', scat_sz=50)\n"
   ]
  },
  {
   "cell_type": "raw",
   "metadata": {
    "vscode": {
     "languageId": "raw"
    }
   },
   "source": [
    "#### Key Differences between Sionna 0.19 and 1.0\n",
    "\n",
    "The main differences when using Sionna 1.0+ are:\n",
    "\n",
    "**Installation:**\n",
    "- Sionna 0.19: `pip install sionna==0.19.1`\n",
    "- Sionna 1.0: `pip install sionna-rt==1.0.2`\n",
    "\n",
    "**API Parameter Changes:**\n",
    "- `num_samples` → `samples_per_src` \n",
    "- `reflection` → `specular_reflection`\n",
    "- `scattering` → `diffuse_reflection`\n",
    "- `normalize_delays` parameter handling has changed\n",
    "\n",
    "**Import Changes:**\n",
    "- Sionna 1.0 separates the ray tracing functionality into the `sionna-rt` package\n",
    "\n",
    "**The Good News:**\n",
    "The DeepMIMO `sionna_exporter` automatically detects which version you're using and handles all these differences internally. You can use the same exporter function for both versions!\n"
   ]
  },
  {
   "cell_type": "markdown",
   "id": "euol6_FYhBYQ",
   "metadata": {
    "id": "euol6_FYhBYQ"
   },
   "source": [
    "### From AODT\n",
    "Like Sionna, conversion from AODT requires an exporter in DeepMIMO. This exporter will save AODT data using similar methods to those presented in AODT `Export_Data.ipynb` notebook.\n",
    "\n",
    "After ray tracing with AODT, be it AODT on the cloud, locally or in a remote server, this code can be executed wherever a clickhouse client can be executed, to fetch data from the database and save the necessary tables in parquet format."
   ]
  },
  {
   "cell_type": "code",
   "execution_count": null,
   "id": "kjpHkyZhiCXc",
   "metadata": {},
   "outputs": [],
   "source": [
    "# Install DeepMIMO in the Notebook (with AODT dependencies)\n",
    "#!pip install deepmimo[aodt]"
   ]
  },
  {
   "cell_type": "code",
   "execution_count": null,
   "id": "ceT9EwI9ia6Q",
   "metadata": {},
   "outputs": [],
   "source": [
    "try:\n",
    "  # Load database client\n",
    "  from clickhouse_driver import Client\n",
    "  db_client = Client('clickhouse')\n",
    "\n",
    "  # Export database to folder with parquet files\n",
    "  import deepmimo as dm\n",
    "  from deepmimo.exporters import aodt_exporter\n",
    "\n",
    "  rt_folder = aodt_exporter(db_client)\n",
    "  # dm.zip(rt_folder)  # further zip the file for manual download\n",
    "\n",
    "  scenario_aodt = dm.convert(rt_folder, overwrite=True)\n",
    "\n",
    "  aodt_dataset = dm.load(scenario_aodt)\n",
    "\n",
    "except:\n",
    "  print('This should be executed in a machine with clickhouse server access.')"
   ]
  },
  {
   "cell_type": "markdown",
   "id": "fzoJeemuLUAz",
   "metadata": {
    "id": "fzoJeemuLUAz"
   },
   "source": [
    "### Dynamic Dataset"
   ]
  },
  {
   "cell_type": "markdown",
   "id": "iPtjfj3zLhhi",
   "metadata": {
    "id": "iPtjfj3zLhhi"
   },
   "source": [
    "Dynamic datasets are the same as normal datasets, but usually with fewer receivers, but these receivers (or the transmitters, or the objects in the scene) move across scenes. Therefore the DeepMIMO dataset will consist of multiple MacroDatasets (or Datasets - refer to the Loading Section for information about these objects), one for each *snapshot*.\n",
    "\n",
    "To ray trace and convert such a dataset to DeepMIMO is very simple. Ray trace each individual scene independently and export them to a common folder, and pass that folder (which effectively contains several independent ray tracer outputs) to the converter, and it will figure out that the dataset is a Dynamic Dataset if it find a folders instead of files, and files inside one of those folders. The folders will be sorted (using the `sorted()` Python built-in) and the snapshots will be saved in that order."
   ]
  },
  {
   "cell_type": "code",
   "execution_count": null,
   "id": "OXe5ISTTMEfn",
   "metadata": {},
   "outputs": [],
   "source": [
    "try:\n",
    "  dyn_dataset = dm.convert('path to folder containing individual datasets')\n",
    "  dyn_dataset.scene.plot()  # Draws the scene of each dataset\n",
    "except:\n",
    "  print('This should be executed when a Dynamic scenario exists in the database (coming soon)')"
   ]
  },
  {
   "cell_type": "markdown",
   "id": "7zJe8QPSLb2P",
   "metadata": {
    "id": "7zJe8QPSLb2P"
   },
   "source": [
    "### Multi-antenna Dataset\n"
   ]
  },
  {
   "cell_type": "markdown",
   "id": "VS3WjcfwLh0h",
   "metadata": {
    "id": "VS3WjcfwLh0h"
   },
   "source": [
    "Similar to Dynamic datasets, DeepMIMO supports multiple antenna raytracing scenarios. Currently, the easiest way to ray trace such scenarios is to define multiple transmitters, each with a single antenna. In the future DeepMIMO will support multi-antenna terminals, but this has proven to be a rare use-case that is most often unnecessary."
   ]
  },
  {
   "cell_type": "markdown",
   "id": "1pQD8EiFBF9A",
   "metadata": {
    "id": "1pQD8EiFBF9A"
   },
   "source": [
    "## Upload to DeepMIMO"
   ]
  },
  {
   "cell_type": "markdown",
   "id": "els7h1_EBIuL",
   "metadata": {
    "id": "els7h1_EBIuL"
   },
   "source": [
    "### Upload Scenario Files"
   ]
  },
  {
   "cell_type": "code",
   "execution_count": null,
   "id": "Y1OEqjAaThc-",
   "metadata": {},
   "outputs": [],
   "source": [
    "import shutil\n",
    "\n",
    "# Rename scenario to not converge with other previously uploaded scenarios\n",
    "scen_name_to_upload = scen_name + f'_{np.random.randint(1e8)}'\n",
    "old_folder = dm.get_scenario_folder(scen_name)\n",
    "new_folder = dm.get_scenario_folder(scen_name_to_upload)\n",
    "\n",
    "# Copy the scenario files to a new folder, as if we just converted it\n",
    "shutil.copytree(old_folder, new_folder, dirs_exist_ok=True)"
   ]
  },
  {
   "cell_type": "code",
   "execution_count": null,
   "id": "2KWvwdZ2BIUC",
   "metadata": {},
   "outputs": [],
   "source": [
    "# Get key in DeepMIMO \"Contribute\" dashboard (this one will be inactive)\n",
    "MY_DEEPMIMO_KEY = 'c3e344d106ab46161fea04b929bca1ae4a92ef5a368022561faa08da6e59dab0'\n",
    "dm.upload(scen_name_to_upload, key=MY_DEEPMIMO_KEY)"
   ]
  },
  {
   "cell_type": "markdown",
   "id": "QWRYU8KAw4jo",
   "metadata": {
    "id": "QWRYU8KAw4jo"
   },
   "source": [
    "### Upload Additional Images"
   ]
  },
  {
   "cell_type": "code",
   "execution_count": null,
   "id": "0441_vH7w3nS",
   "metadata": {},
   "outputs": [],
   "source": [
    "# For example, a GPS image\n",
    "!wget https://deepmimo.net/images/1737161953000.jpg"
   ]
  },
  {
   "cell_type": "code",
   "execution_count": null,
   "id": "t97SxzO6y3ya",
   "metadata": {},
   "outputs": [],
   "source": [
    "from IPython.display import Image, display\n",
    "\n",
    "scen_gps_file_name = '1737161953000.jpg'\n",
    "\n",
    "# Display local file\n",
    "display(Image(filename=scen_gps_file_name, width=600))"
   ]
  },
  {
   "cell_type": "code",
   "execution_count": null,
   "id": "iptdcwBazFIO",
   "metadata": {},
   "outputs": [],
   "source": [
    "dm.upload_images(scen_name_to_upload, key=MY_DEEPMIMO_KEY,\n",
    "                 img_paths=[scen_gps_file_name])"
   ]
  },
  {
   "cell_type": "markdown",
   "id": "5SK6G2ZHw7B9",
   "metadata": {
    "id": "5SK6G2ZHw7B9"
   },
   "source": [
    "### Upload Ray Tracing Source"
   ]
  },
  {
   "cell_type": "code",
   "execution_count": null,
   "id": "QXir1x9owUHC",
   "metadata": {},
   "outputs": [],
   "source": [
    "import os\n",
    "rt_folder = 'fake_rt_output_folder'\n",
    "os.makedirs(rt_folder, exist_ok=True)\n",
    "zip_path = dm.zip(rt_folder)\n",
    "dm.upload_rt_source(scen_name_to_upload, zip_path, MY_DEEPMIMO_KEY)"
   ]
  },
  {
   "cell_type": "markdown",
   "id": "QB8oKUDm0JI4",
   "metadata": {
    "id": "QB8oKUDm0JI4"
   },
   "source": [
    "If everything went well, you should see the following submission under your \"contribute\" dashboard"
   ]
  },
  {
   "cell_type": "code",
   "execution_count": null,
   "id": "hQZwWgis1Oeu",
   "metadata": {},
   "outputs": [],
   "source": [
    "# download screenshot\n",
    "!wget -O submission_screenshot_example.png \"https://deepmimo.net/examples/submission_screenshot_example.png\""
   ]
  },
  {
   "cell_type": "code",
   "execution_count": null,
   "id": "2JzHqvYk0mxN",
   "metadata": {},
   "outputs": [],
   "source": [
    "from IPython.display import Image, display\n",
    "\n",
    "# Display local file\n",
    "display(Image(filename='submission_screenshot_example.png'))"
   ]
  }
 ],
 "metadata": {
  "kernelspec": {
   "display_name": "lwm",
   "language": "python",
   "name": "python3"
  },
  "language_info": {
   "codemirror_mode": {
    "name": "ipython",
    "version": 3
   },
   "file_extension": ".py",
   "mimetype": "text/x-python",
   "name": "python",
   "nbconvert_exporter": "python",
   "pygments_lexer": "ipython3",
   "version": "3.11.0"
  }
 },
 "nbformat": 4,
 "nbformat_minor": 5
}
